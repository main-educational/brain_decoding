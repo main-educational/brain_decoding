{
 "cells": [
  {
   "cell_type": "markdown",
   "id": "536cd0f3",
   "metadata": {},
   "source": [
    "# Brain decoding with GCN\n",
    "\n",
    "## Graph Convolution Network (GCN)\n",
    "```{figure} gcn_decoding/GCN_pipeline.png\n",
    "---\n",
    "width: 500px\n",
    "name: gcn-pipeline-fig\n",
    "---\n",
    "Schematic of the analysis proposed in Zhang and colleagues (2021).\n",
    "The full time series are used to constrcut the brain graph to a network representation of brain organization by associating nodes to brain regions and defining edges via functional connections. \n",
    "\n",
    "```\n",
    "\n",
    "## Getting the data\n",
    "\n",
    "We are going to download the dataset from Haxby and colleagues (2001) {cite:p}`Haxby2001-vt`. You can check section {ref}`haxby-dataset` for more details on that dataset. Here we are going to quickly download it, and prepare it for machine learning applications with a set of predictive variable, the brain time series, and a dependent variable, the annotation on cognition."
   ]
  },
  {
   "cell_type": "code",
   "execution_count": 1,
   "id": "de5c84ce",
   "metadata": {
    "tags": [
     "hide_input",
     "hide_output"
    ]
   },
   "outputs": [
    {
     "name": "stderr",
     "output_type": "stream",
     "text": [
      "/opt/hostedtoolcache/Python/3.8.12/x64/lib/python3.8/site-packages/sklearn/utils/multiclass.py:14: DeprecationWarning: Please use `spmatrix` from the `scipy.sparse` namespace, the `scipy.sparse.base` namespace is deprecated.\n",
      "  from scipy.sparse.base import spmatrix\n",
      "/opt/hostedtoolcache/Python/3.8.12/x64/lib/python3.8/site-packages/sklearn/utils/optimize.py:18: DeprecationWarning: Please use `line_search_wolfe2` from the `scipy.optimize` namespace, the `scipy.optimize.linesearch` namespace is deprecated.\n",
      "  from scipy.optimize.linesearch import line_search_wolfe2, line_search_wolfe1\n",
      "/opt/hostedtoolcache/Python/3.8.12/x64/lib/python3.8/site-packages/sklearn/utils/optimize.py:18: DeprecationWarning: Please use `line_search_wolfe1` from the `scipy.optimize` namespace, the `scipy.optimize.linesearch` namespace is deprecated.\n",
      "  from scipy.optimize.linesearch import line_search_wolfe2, line_search_wolfe1\n",
      "/opt/hostedtoolcache/Python/3.8.12/x64/lib/python3.8/site-packages/nilearn/datasets/func.py:20: DeprecationWarning: Please use `MatReadError` from the `scipy.io.matlab` namespace, the `scipy.io.matlab.miobase` namespace is deprecated.\n",
      "  from scipy.io.matlab.miobase import MatReadError\n",
      "/opt/hostedtoolcache/Python/3.8.12/x64/lib/python3.8/site-packages/nilearn/datasets/__init__.py:93: FutureWarning: Fetchers from the nilearn.datasets module will be updated in version 0.9 to return python strings instead of bytes and Pandas dataframes instead of Numpy arrays.\n",
      "  warn(\"Fetchers from the nilearn.datasets module will be \"\n"
     ]
    },
    {
     "name": "stdout",
     "output_type": "stream",
     "text": [
      "\n",
      "Dataset created in ../data/haxby2001\n",
      "\n",
      "Downloading data from https://www.nitrc.org/frs/download.php/7868/mask.nii.gz ...\n"
     ]
    },
    {
     "name": "stderr",
     "output_type": "stream",
     "text": [
      " ...done. (0 seconds, 0 min)\n"
     ]
    },
    {
     "name": "stdout",
     "output_type": "stream",
     "text": [
      "Downloading data from http://data.pymvpa.org/datasets/haxby2001/MD5SUMS ...\n"
     ]
    },
    {
     "name": "stderr",
     "output_type": "stream",
     "text": [
      " ...done. (0 seconds, 0 min)\n"
     ]
    },
    {
     "name": "stdout",
     "output_type": "stream",
     "text": [
      "Downloading data from http://data.pymvpa.org/datasets/haxby2001/subj4-2010.01.14.tar.gz ...\n"
     ]
    },
    {
     "name": "stderr",
     "output_type": "stream",
     "text": [
      "\r",
      "Downloaded 22568960 of 329954386 bytes (6.8%,   14.0s remaining)"
     ]
    },
    {
     "name": "stderr",
     "output_type": "stream",
     "text": [
      "\r",
      "Downloaded 66945024 of 329954386 bytes (20.3%,    8.1s remaining)"
     ]
    },
    {
     "name": "stderr",
     "output_type": "stream",
     "text": [
      "\r",
      "Downloaded 111591424 of 329954386 bytes (33.8%,    6.2s remaining)"
     ]
    },
    {
     "name": "stderr",
     "output_type": "stream",
     "text": [
      "\r",
      "Downloaded 148103168 of 329954386 bytes (44.9%,    5.1s remaining)"
     ]
    },
    {
     "name": "stderr",
     "output_type": "stream",
     "text": [
      "\r",
      "Downloaded 184246272 of 329954386 bytes (55.8%,    4.1s remaining)"
     ]
    },
    {
     "name": "stderr",
     "output_type": "stream",
     "text": [
      "\r",
      "Downloaded 225452032 of 329954386 bytes (68.3%,    2.9s remaining)"
     ]
    },
    {
     "name": "stderr",
     "output_type": "stream",
     "text": [
      "\r",
      "Downloaded 266698752 of 329954386 bytes (80.8%,    1.7s remaining)"
     ]
    },
    {
     "name": "stderr",
     "output_type": "stream",
     "text": [
      "\r",
      "Downloaded 308518912 of 329954386 bytes (93.5%,    0.6s remaining)"
     ]
    },
    {
     "name": "stderr",
     "output_type": "stream",
     "text": [
      " ...done. (9 seconds, 0 min)\n"
     ]
    },
    {
     "name": "stderr",
     "output_type": "stream",
     "text": [
      "Extracting data from ../data/haxby2001/622d4f5d4b8f14a567901606c924e90d/subj4-2010.01.14.tar.gz..."
     ]
    },
    {
     "name": "stderr",
     "output_type": "stream",
     "text": [
      ".. done.\n"
     ]
    },
    {
     "name": "stdout",
     "output_type": "stream",
     "text": [
      "Downloading data from http://data.pymvpa.org/datasets/haxby2001/stimuli-2010.01.14.tar.gz ...\n"
     ]
    },
    {
     "name": "stderr",
     "output_type": "stream",
     "text": [
      " ...done. (1 seconds, 0 min)\n",
      "Extracting data from ../data/haxby2001/5cd78c74b711572c7f41a5bddb69abca/stimuli-2010.01.14.tar.gz..... done.\n"
     ]
    }
   ],
   "source": [
    "import os\n",
    "import warnings\n",
    "warnings.filterwarnings(action='once')\n",
    "\n",
    "from nilearn import datasets\n",
    "# We are fetching the data for subject 4\n",
    "data_dir = os.path.join('..', 'data')\n",
    "sub_no = 4\n",
    "haxby_dataset = datasets.fetch_haxby(subjects=[sub_no], fetch_stimuli=True, data_dir=data_dir)\n",
    "func_file = haxby_dataset.func[0]\n",
    "\n",
    "# cognitive annotations\n",
    "import pandas as pd\n",
    "behavioral = pd.read_csv(haxby_dataset.session_target[0], delimiter=' ')\n",
    "y = behavioral['labels']"
   ]
  },
  {
   "cell_type": "markdown",
   "id": "989a1c1a",
   "metadata": {},
   "source": [
    "Let's check the size of dependent variable `y`:"
   ]
  },
  {
   "cell_type": "code",
   "execution_count": 2,
   "id": "7702c170",
   "metadata": {},
   "outputs": [
    {
     "name": "stdout",
     "output_type": "stream",
     "text": [
      "['rest' 'face' 'chair' 'scissors' 'shoe' 'scrambledpix' 'house' 'cat'\n",
      " 'bottle']\n",
      "(1452,)\n"
     ]
    }
   ],
   "source": [
    "categories = y.unique()\n",
    "print(categories)\n",
    "print(y.shape)"
   ]
  },
  {
   "cell_type": "markdown",
   "id": "14a6796b",
   "metadata": {},
   "source": [
    "The generation of brain time series is a little bit more complicated for the GCN framework.\n",
    "The GCN framework from Zhang and colleagues (2021) {cite:p}`Zhang2021-fa` require a full brain graph. \n",
    "\n",
    "## Extract time series from a full brain atlas\n",
    "\n",
    "There are two common approaches to define the brain regions: using predefined atlases from published studies or generate from own data.\n",
    "As the Haxby dataset is shipped in the native resolution, we cannot easily use an published atlas.  \n",
    "Here we will demostrate how to use nilearn to generate the brain regions, extract signals, and calculate the brain graph.\n",
    "\n",
    "### Dictionary learning for estimating brain networks\n",
    "\n",
    "Nilearn provides several methods for data-driven brain network estimation and dictionary learning is one of the robust method. \n",
    "Dictionary learning (or sparse coding) is a representation learning method aiming at finding a sparse representation of the input data as a linear combination of basic elements called atoms. \n",
    "The identification of these atoms composing the dictionary relies on a sparsity principle: \n",
    "maximally sparse representations of the dataset are sought for. Atoms are not required to be orthogonal.\n",
    "\n",
    "We use the nilearn function `DictLearning` to estimate networks on the haxby EPI data."
   ]
  },
  {
   "cell_type": "code",
   "execution_count": 3,
   "id": "23c0bbe8",
   "metadata": {},
   "outputs": [
    {
     "name": "stderr",
     "output_type": "stream",
     "text": [
      "/opt/hostedtoolcache/Python/3.8.12/x64/lib/python3.8/site-packages/nilearn/image/image.py:1106: FutureWarning: The parameter \"sessions\" will be removed in 0.9.0 release of Nilearn. Please use the parameter \"runs\" instead.\n",
      "  data = signal.clean(\n"
     ]
    },
    {
     "name": "stderr",
     "output_type": "stream",
     "text": [
      "/opt/hostedtoolcache/Python/3.8.12/x64/lib/python3.8/site-packages/scipy/ndimage/_measurements.py:305: DeprecationWarning: In future, it will be an error for 'np.bool_' scalars to be interpreted as an index\n",
      "  return _nd_image.find_objects(input, max_label)\n"
     ]
    },
    {
     "name": "stderr",
     "output_type": "stream",
     "text": [
      "/opt/hostedtoolcache/Python/3.8.12/x64/lib/python3.8/site-packages/nilearn/plotting/displays.py:101: UserWarning: linewidths is ignored by contourf\n",
      "  im = getattr(ax, type)(data_2d.copy(),\n"
     ]
    },
    {
     "data": {
      "text/plain": [
       "<nilearn.plotting.displays.OrthoSlicer at 0x7f5bd3347eb0>"
      ]
     },
     "execution_count": 3,
     "metadata": {},
     "output_type": "execute_result"
    },
    {
     "data": {
      "image/png": "[encoded data removed]",
      "text/plain": [
       "<Figure size 475.2x187.2 with 4 Axes>"
      ]
     },
     "metadata": {
      "filenames": {
       "image/png": "/home/runner/work/brain_encoding_decoding/brain_encoding_decoding/content/_build/jupyter_execute/gcn_decoding_5_4.png"
      }
     },
     "output_type": "display_data"
    }
   ],
   "source": [
    "import warnings\n",
    "warnings.filterwarnings(action='once')\n",
    "from nilearn.decomposition import DictLearning\n",
    "\n",
    "# Initialize DictLearning object\n",
    "dict_learn = DictLearning(n_components=20, smoothing_fwhm=6.,\n",
    "                          low_pass=0.1, high_pass=0.01, t_r=2,\n",
    "                          detrend=True, standardize=True,\n",
    "                          memory=\"nilearn_cache\", memory_level=2,\n",
    "                          random_state=0)\n",
    "# Fit to the data\n",
    "dict_learn.fit(func_file)\n",
    "# Resting state networks/maps in attribute `components_img_`\n",
    "components_img = dict_learn.components_img_\n",
    "\n",
    "# Visualization of functional networks\n",
    "# Show networks using plotting utilities\n",
    "from nilearn.image import mean_img\n",
    "from nilearn import plotting\n",
    "mean_haxby = mean_img(func_file)\n",
    "plotting.plot_prob_atlas(components_img, \n",
    "                         bg_img=mean_haxby, \n",
    "                         view_type='filled_contours',\n",
    "                         title='Dictionary Learning maps')"
   ]
  },
  {
   "cell_type": "markdown",
   "id": "4c6c058a",
   "metadata": {},
   "source": [
    "### Region extraction from network components\n",
    "\n",
    "This approach has been previously used in the neuroscience literature to study the intrinsic organization of brain anatomy and functions.\n",
    "The next step is to separate the learned networks into discrete regions.\n",
    "Nilearn provides an useful class `RegionExtractor` to extract isolated regions from statistical maps.\n",
    "As the networks generated from dictionary learning are denoted by probablilty rather than discrete values,\n",
    "we will use `RegionExtractor` to generate a parcellation scheme.\n",
    "\n",
    "```{admonition} Extract connected regions from a brain atlas image defined by labels (integers). \n",
    ":class: tip\n",
    "See function `nilearn.regions.connected_label_regions` and the tutorial on \n",
    "[Yeo 7 networks](https://nilearn.github.io/auto_examples/06_manipulating_images/plot_extract_regions_labels_image.html#sphx-glr-auto-examples-06-manipulating-images-plot-extract-regions-labels-image-py)\n",
    "```"
   ]
  },
  {
   "cell_type": "code",
   "execution_count": 4,
   "id": "edc0ad65",
   "metadata": {},
   "outputs": [
    {
     "name": "stderr",
     "output_type": "stream",
     "text": [
      "<decorator-gen-7>:2: DeprecationWarning: scipy.sparse.linalg.cg called without specifying `atol`. The default value will be changed in a future release. For compatibility, specify a value for `atol` explicitly, e.g., ``cg(..., atol=0)``, or to retain the old behavior ``cg(..., atol='legacy')``\n"
     ]
    },
    {
     "name": "stderr",
     "output_type": "stream",
     "text": [
      "/opt/hostedtoolcache/Python/3.8.12/x64/lib/python3.8/site-packages/nilearn/image/image.py:1106: FutureWarning: The parameter \"sessions\" will be removed in 0.9.0 release of Nilearn. Please use the parameter \"runs\" instead.\n",
      "  data = signal.clean(\n"
     ]
    },
    {
     "name": "stderr",
     "output_type": "stream",
     "text": [
      "/opt/hostedtoolcache/Python/3.8.12/x64/lib/python3.8/site-packages/scipy/ndimage/_measurements.py:305: DeprecationWarning: In future, it will be an error for 'np.bool_' scalars to be interpreted as an index\n",
      "  return _nd_image.find_objects(input, max_label)\n"
     ]
    },
    {
     "name": "stderr",
     "output_type": "stream",
     "text": [
      "/opt/hostedtoolcache/Python/3.8.12/x64/lib/python3.8/site-packages/numpy/ma/core.py:2831: UserWarning: Warning: converting a masked element to nan.\n",
      "  _data = np.array(data, dtype=dtype, copy=copy,\n",
      "/opt/hostedtoolcache/Python/3.8.12/x64/lib/python3.8/site-packages/nilearn/plotting/displays.py:101: UserWarning: No contour levels were found within the data range.\n",
      "  im = getattr(ax, type)(data_2d.copy(),\n",
      "/opt/hostedtoolcache/Python/3.8.12/x64/lib/python3.8/site-packages/nilearn/plotting/displays.py:101: UserWarning: linewidths is ignored by contourf\n",
      "  im = getattr(ax, type)(data_2d.copy(),\n"
     ]
    },
    {
     "name": "stdout",
     "output_type": "stream",
     "text": [
      "(1452, 64)\n"
     ]
    },
    {
     "data": {
      "image/png": "[encoded data removed]",
      "text/plain": [
       "<Figure size 475.2x187.2 with 4 Axes>"
      ]
     },
     "metadata": {
      "filenames": {
       "image/png": "/home/runner/work/brain_encoding_decoding/brain_encoding_decoding/content/_build/jupyter_execute/gcn_decoding_7_5.png"
      }
     },
     "output_type": "display_data"
    }
   ],
   "source": [
    "import warnings\n",
    "warnings.filterwarnings(action='once')\n",
    "from nilearn.regions import RegionExtractor\n",
    "\n",
    "extractor = RegionExtractor(components_img, threshold=0.5,\n",
    "                            thresholding_strategy='ratio_n_voxels',\n",
    "                            extractor='local_regions',\n",
    "                            low_pass=0.1, high_pass=0.01, t_r=2,\n",
    "                            detrend=True, standardize=True)\n",
    "# Just call fit() to process for regions extraction\n",
    "extractor.fit()\n",
    "# Extracted regions are stored in regions_img_\n",
    "regions_extracted_img = extractor.regions_img_\n",
    "# Each region index is stored in index_\n",
    "regions_index = extractor.index_\n",
    "# Total number of regions extracted\n",
    "n_regions_extracted = regions_extracted_img.shape[-1]\n",
    "\n",
    "# Visualization of region extraction results\n",
    "title = ('%d regions are extracted from %d components.'\n",
    "         '\\nEach separate color of region indicates extracted region'\n",
    "         % (n_regions_extracted, 20))\n",
    "plotting.plot_prob_atlas(regions_extracted_img, \n",
    "                         bg_img=mean_haxby, \n",
    "                         view_type='filled_contours',\n",
    "                         title=title)\n",
    "\n",
    "X = extractor.transform(func_file)\n",
    "print(X.shape)"
   ]
  },
  {
   "cell_type": "markdown",
   "id": "6c0db2ff",
   "metadata": {},
   "source": [
    "So we have 1452 time points in the imaging data, and for each time point we have recordings of fMRI activity across 68 brain regions.\n",
    "\n",
    "## Create brain graph for GCN\n",
    "\n",
    "A key component of GCN is brain graph.\n",
    "Brain graph provides a network representation of brain organization by associating nodes to brain regions and defining edges via anatomical or functional connections.\n",
    "After generating time series, we will firstly use the nilearn function to geneate a correlation based functional connectome."
   ]
  },
  {
   "cell_type": "code",
   "execution_count": 5,
   "id": "58f19fbd",
   "metadata": {},
   "outputs": [
    {
     "data": {
      "image/png": "[encoded data removed]",
      "text/plain": [
       "<Figure size 504x360 with 2 Axes>"
      ]
     },
     "metadata": {
      "filenames": {
       "image/png": "/home/runner/work/brain_encoding_decoding/brain_encoding_decoding/content/_build/jupyter_execute/gcn_decoding_9_0.png"
      },
      "needs_background": "light"
     },
     "output_type": "display_data"
    }
   ],
   "source": [
    "import warnings\n",
    "warnings.filterwarnings(action='once')\n",
    "\n",
    "import nilearn.connectome\n",
    "\n",
    "# Estimating connectomes and save for pytorch to load\n",
    "corr_measure = nilearn.connectome.ConnectivityMeasure(kind=\"correlation\")\n",
    "conn = corr_measure.fit_transform([X])[0]\n",
    "\n",
    "title = 'Correlation between %d regions' % n_regions_extracted\n",
    "\n",
    "# First plot the matrix\n",
    "display = plotting.plot_matrix(conn, vmax=1, vmin=-1,\n",
    "                               colorbar=True, title=title)\n"
   ]
  },
  {
   "cell_type": "markdown",
   "id": "b3407852",
   "metadata": {},
   "source": [
    "The next step is to construct the brain graph for GCN.\n",
    "\n",
    "__k-Nearest Neighbours(KNN) graph__ for the group average connectome will be built based on the connectivity-matrix.\n",
    "\n",
    "Each node is only connected to *k* conn = corr_measure.fit_transform([X])[0]\n",
    "other neighbouring nodes.\n",
    "For the purpose of demostration, we constrain the graph to from clusters with __8__ neighbouring nodes with the strongest connectivity.\n",
    "\n",
    "For more details you please check out __*src/graph_construction.py*__ script."
   ]
  },
  {
   "cell_type": "code",
   "execution_count": 6,
   "id": "0e84f3a5",
   "metadata": {},
   "outputs": [],
   "source": [
    "import sys\n",
    "sys.path.append('../src')\n",
    "from graph_construction import make_group_graph\n",
    "\n",
    "# make a graph for the subject\n",
    "graph = make_group_graph([conn], self_loops=False, k=8, symmetric=True)"
   ]
  },
  {
   "cell_type": "markdown",
   "id": "9c7f7c74",
   "metadata": {},
   "source": [
    "## Preparing the dataset for model training\n",
    "\n",
    "The trials for different object categories are scattered in the experiment. \n",
    "Firstly we will concatenated the volumes of the same category together."
   ]
  },
  {
   "cell_type": "code",
   "execution_count": 7,
   "id": "41c8db28",
   "metadata": {},
   "outputs": [],
   "source": [
    "# generate data\n",
    "import pandas as pd\n",
    "import numpy as np\n",
    "\n",
    "# cancatenate the same type of trials\n",
    "concat_bold = {}\n",
    "for label in categories:\n",
    "    cur_label_index = y.index[y == label].tolist()\n",
    "    curr_bold_seg = X[cur_label_index]    \n",
    "    concat_bold[label] = curr_bold_seg"
   ]
  },
  {
   "cell_type": "markdown",
   "id": "e9433371",
   "metadata": {},
   "source": [
    "We split the data by the time window size that we wish to use to caputre the temporal dynamic.\n",
    "Different lengths for our input data can be selected. \n",
    "In this example we will continue with __*window_length = 1*__, which means each input file will have a length equal to just one Repetition Time (TR).\n",
    "The splitted timeseries are saved as individual files (in the format of `<category>_seg_<serialnumber>.npy`), \n",
    "the file names and the associated label are stored in the same directory,\n",
    "under a file named `label.csv`."
   ]
  },
  {
   "cell_type": "code",
   "execution_count": 8,
   "id": "66923432",
   "metadata": {},
   "outputs": [],
   "source": [
    "# split the data by time window size and save to file\n",
    "window_length = 1\n",
    "dic_labels = {name: i for i, name in enumerate(categories)}\n",
    "\n",
    "# set output paths\n",
    "split_path = os.path.join(data_dir, 'haxby_split_win/')\n",
    "if not os.path.exists(split_path):\n",
    "    os.makedirs(split_path)\n",
    "out_file = os.path.join(split_path, '{}_{:04d}.npy')\n",
    "out_csv = os.path.join(split_path, 'labels.csv')\n",
    "\n",
    "label_df = pd.DataFrame(columns=['label', 'filename'])\n",
    "for label, ts_data in concat_bold.items():\n",
    "    ts_duration = len(ts_data)\n",
    "    ts_filename = f\"{label}_seg\"\n",
    "    valid_label = dic_labels[label]\n",
    "\n",
    "    # Split the timeseries\n",
    "    rem = ts_duration % window_length\n",
    "    n_splits = int(np.floor(ts_duration / window_length))\n",
    "\n",
    "    ts_data = ts_data[:(ts_duration - rem), :]   \n",
    "\n",
    "    for j, split_ts in enumerate(np.split(ts_data, n_splits)):\n",
    "        ts_output_file_name = out_file.format(ts_filename, j)\n",
    "\n",
    "        split_ts = np.swapaxes(split_ts, 0, 1)\n",
    "        np.save(ts_output_file_name, split_ts)\n",
    "\n",
    "        curr_label = {'label': valid_label, 'filename': os.path.basename(ts_output_file_name)}\n",
    "        label_df = label_df.append(curr_label, ignore_index=True)\n",
    "        \n",
    "label_df.to_csv(out_csv, index=False)  "
   ]
  },
  {
   "cell_type": "markdown",
   "id": "65cd0a5a",
   "metadata": {},
   "source": [
    "Now we use a customised `pytorch` dataset generator class `TimeWindowsDataset` to split the data into training, \n",
    "validation, and testing sets for model selection.\n",
    "\n",
    "```{admonition} Model selection\n",
    ":class: tip\n",
    "For further details of model selection, please check out the material from [this tutorial](https://github.com/neurodatascience/main-2021-ml-parts-1-2).\n",
    "```\n",
    "\n",
    "The dataset generator defaults isolates 20% of the data as the validation set, and 10% as testing set.\n",
    "For more details of customising a dataset, please see `src/gcn_windows_dataset.py` and the \n",
    "official [`pytorch` documentation](https://pytorch.org/tutorials/beginner/basics/data_tutorial.html#creating-a-custom-dataset-for-your-files)."
   ]
  },
  {
   "cell_type": "code",
   "execution_count": 9,
   "id": "6156c81f",
   "metadata": {},
   "outputs": [
    {
     "name": "stdout",
     "output_type": "stream",
     "text": [
      "train dataset: 1016*(torch.Size([64, 1]), ())\n",
      "valid dataset: 290*(torch.Size([64, 1]), ())\n",
      "test dataset: 146*(torch.Size([64, 1]), ())\n"
     ]
    }
   ],
   "source": [
    "# split dataset\n",
    "from gcn_windows_dataset import TimeWindowsDataset\n",
    "\n",
    "random_seed = 0\n",
    "\n",
    "train_dataset = TimeWindowsDataset(\n",
    "    data_dir=split_path, \n",
    "    partition=\"train\", \n",
    "    random_seed=random_seed, \n",
    "    pin_memory=True, \n",
    "    normalize=True,\n",
    "    shuffle=True)\n",
    "\n",
    "valid_dataset = TimeWindowsDataset(\n",
    "    data_dir=split_path, \n",
    "    partition=\"valid\", \n",
    "    random_seed=random_seed, \n",
    "    pin_memory=True, \n",
    "    normalize=True,\n",
    "    shuffle=True)\n",
    "\n",
    "test_dataset = TimeWindowsDataset(\n",
    "    data_dir=split_path, \n",
    "    partition=\"test\", \n",
    "    random_seed=random_seed, \n",
    "    pin_memory=True, \n",
    "    normalize=True,\n",
    "    shuffle=True)\n",
    "\n",
    "print(\"train dataset: {}\".format(train_dataset))\n",
    "print(\"valid dataset: {}\".format(valid_dataset))\n",
    "print(\"test dataset: {}\".format(test_dataset))"
   ]
  },
  {
   "cell_type": "markdown",
   "id": "be6ee0d6",
   "metadata": {},
   "source": [
    "Once the datasets are created, we can use the pytorch [data loader](https://pytorch.org/tutorials/beginner/basics/data_tutorial.html#preparing-your-data-for-training-with-dataloaders) to iterate through the data during the model selection process.\n",
    "The __batch size__ defines the number of samples that will be propagated through the neural network.\n",
    "We are separating the dataset into 16 time windows per batch."
   ]
  },
  {
   "cell_type": "code",
   "execution_count": 10,
   "id": "a2553a98",
   "metadata": {},
   "outputs": [
    {
     "name": "stdout",
     "output_type": "stream",
     "text": [
      "Feature batch shape: torch.Size([16, 64, 1]); mean 1.3969838619232178e-09\n",
      "Labels batch shape: torch.Size([16]); mean 3.8125\n"
     ]
    }
   ],
   "source": [
    "import torch\n",
    "from torch.utils.data import DataLoader\n",
    "\n",
    "batch_size = 16\n",
    "\n",
    "torch.manual_seed(random_seed)\n",
    "train_generator = DataLoader(train_dataset, batch_size=batch_size, shuffle=True)\n",
    "valid_generator = DataLoader(valid_dataset, batch_size=batch_size, shuffle=True)\n",
    "test_generator = DataLoader(test_dataset, batch_size=batch_size, shuffle=True)\n",
    "train_features, train_labels = next(iter(train_generator))\n",
    "print(f\"Feature batch shape: {train_features.size()}; mean {torch.mean(train_features)}\")\n",
    "print(f\"Labels batch shape: {train_labels.size()}; mean {torch.mean(torch.Tensor.float(train_labels))}\")"
   ]
  },
  {
   "cell_type": "markdown",
   "id": "87de1c38",
   "metadata": {},
   "source": [
    "## Generating a GCN model \n",
    "\n",
    "We have created a GCN of the following property:\n",
    "- __3__ graph convolutional layers\n",
    "- __32 graph filters__  at each layer\n",
    "- followed by a __global average pooling__ layer\n",
    "- __2 fully connected__ layers"
   ]
  },
  {
   "cell_type": "code",
   "execution_count": 11,
   "id": "86e26166",
   "metadata": {},
   "outputs": [
    {
     "data": {
      "text/plain": [
       "GCN(\n",
       "  (conv1): ChebConv(1, 32, K=2, normalization=sym)\n",
       "  (conv2): ChebConv(32, 32, K=2, normalization=sym)\n",
       "  (conv3): ChebConv(32, 16, K=2, normalization=sym)\n",
       "  (fc1): Linear(in_features=1024, out_features=256, bias=True)\n",
       "  (fc2): Linear(in_features=256, out_features=128, bias=True)\n",
       "  (fc3): Linear(in_features=128, out_features=9, bias=True)\n",
       "  (dropout): Dropout(p=0.2, inplace=False)\n",
       ")"
      ]
     },
     "execution_count": 11,
     "metadata": {},
     "output_type": "execute_result"
    }
   ],
   "source": [
    "from gcn_model import GCN\n",
    "\n",
    "gcn = GCN(graph.edge_index, \n",
    "          graph.edge_attr, \n",
    "          n_roi=X.shape[1],\n",
    "          batch_size=batch_size,\n",
    "          n_timepoints=window_length, \n",
    "          n_classes=len(categories))\n",
    "gcn"
   ]
  },
  {
   "cell_type": "markdown",
   "id": "1fa62480",
   "metadata": {},
   "source": [
    "## Train and evaluating the model\n",
    "\n",
    "We will use a procedure called backpropagation to train the model.\n",
    "When we training the model with the first batch of data, the accuarcy and loss will be pretty poor.\n",
    "Backpropagation is an algorithm to update the model based on the rate of loss. \n",
    "Iterating through each batch, the model will be updated and reduce the loss.\n",
    "\n",
    "Function `training_loop` performs backpropagation through pytorch. \n",
    "One can use their own choice of optimizer for backpropagation and estimator for loss.\n",
    "\n",
    "After one round of training, we use the validation dataset to calculate the average accuracy and loss with function `valid_test_loop`. \n",
    "These metrics will serve as the reference for model performance of this round of training."
   ]
  },
  {
   "cell_type": "code",
   "execution_count": 12,
   "id": "e557c9af",
   "metadata": {},
   "outputs": [],
   "source": [
    "def train_loop(dataloader, model, loss_fn, optimizer):\n",
    "    size = len(dataloader.dataset)    \n",
    "\n",
    "    for batch, (X, y) in enumerate(dataloader):\n",
    "        # Compute prediction and loss\n",
    "        pred = model(X)\n",
    "        loss = loss_fn(pred, y)\n",
    "\n",
    "        # Backpropagation\n",
    "        optimizer.zero_grad()\n",
    "        loss.backward()\n",
    "        optimizer.step()\n",
    "        \n",
    "        loss, current = loss.item(), batch * dataloader.batch_size\n",
    "\n",
    "        correct = (pred.argmax(1) == y).type(torch.float).sum().item()\n",
    "        correct /= X.shape[0]\n",
    "        if (batch % 10 == 0) or (current == size):\n",
    "            print(f\"#{batch:>5};\\ttrain_loss: {loss:>0.3f};\\ttrain_accuracy:{(100*correct):>5.1f}%\\t\\t[{current:>5d}/{size:>5d}]\")\n",
    "\n",
    "        \n",
    "def valid_test_loop(dataloader, model, loss_fn):\n",
    "    size = len(dataloader.dataset)\n",
    "    loss, correct = 0, 0\n",
    "\n",
    "    with torch.no_grad():\n",
    "        for X, y in dataloader:\n",
    "            pred = model.forward(X)\n",
    "            loss += loss_fn(pred, y).item()\n",
    "            correct += (pred.argmax(1) == y).type(torch.float).sum().item()\n",
    "\n",
    "    loss /= size\n",
    "    correct /= size\n",
    "\n",
    "    return loss, correct"
   ]
  },
  {
   "cell_type": "markdown",
   "id": "0ce8c6f7",
   "metadata": {},
   "source": [
    "This whole procedure described above is called an __epoch__.\n",
    "We will repeat the process for 60 epochs.\n",
    "Here the choice of loss function is `CrossEntropyLoss` and the optimizer to update the model is `Adam`."
   ]
  },
  {
   "cell_type": "code",
   "execution_count": 13,
   "id": "248f4601",
   "metadata": {
    "tags": [
     "hide_output"
    ]
   },
   "outputs": [
    {
     "name": "stdout",
     "output_type": "stream",
     "text": [
      "Epoch 1/60\n",
      "-------------------------------\n"
     ]
    },
    {
     "name": "stdout",
     "output_type": "stream",
     "text": [
      "#    0;\ttrain_loss: 2.206;\ttrain_accuracy: 12.5%\t\t[    0/ 1016]\n",
      "#   10;\ttrain_loss: 2.079;\ttrain_accuracy: 37.5%\t\t[  160/ 1016]\n",
      "#   20;\ttrain_loss: 1.690;\ttrain_accuracy: 56.2%\t\t[  320/ 1016]\n"
     ]
    },
    {
     "name": "stdout",
     "output_type": "stream",
     "text": [
      "#   30;\ttrain_loss: 1.901;\ttrain_accuracy: 37.5%\t\t[  480/ 1016]\n",
      "#   40;\ttrain_loss: 2.327;\ttrain_accuracy: 12.5%\t\t[  640/ 1016]\n",
      "#   50;\ttrain_loss: 1.946;\ttrain_accuracy: 31.2%\t\t[  800/ 1016]\n"
     ]
    },
    {
     "name": "stdout",
     "output_type": "stream",
     "text": [
      "#   60;\ttrain_loss: 1.757;\ttrain_accuracy: 37.5%\t\t[  960/ 1016]\n",
      "Valid metrics:\n",
      "\t avg_loss: 0.105772;\t avg_accuracy: 43.8%\n",
      "Epoch 2/60\n",
      "-------------------------------\n",
      "#    0;\ttrain_loss: 1.854;\ttrain_accuracy: 31.2%\t\t[    0/ 1016]\n",
      "#   10;\ttrain_loss: 1.714;\ttrain_accuracy: 50.0%\t\t[  160/ 1016]\n"
     ]
    },
    {
     "name": "stdout",
     "output_type": "stream",
     "text": [
      "#   20;\ttrain_loss: 1.832;\ttrain_accuracy: 43.8%\t\t[  320/ 1016]\n",
      "#   30;\ttrain_loss: 1.394;\ttrain_accuracy: 43.8%\t\t[  480/ 1016]\n",
      "#   40;\ttrain_loss: 1.487;\ttrain_accuracy: 37.5%\t\t[  640/ 1016]\n"
     ]
    },
    {
     "name": "stdout",
     "output_type": "stream",
     "text": [
      "#   50;\ttrain_loss: 2.126;\ttrain_accuracy: 37.5%\t\t[  800/ 1016]\n",
      "#   60;\ttrain_loss: 1.390;\ttrain_accuracy: 62.5%\t\t[  960/ 1016]\n",
      "Valid metrics:\n",
      "\t avg_loss: 0.100455;\t avg_accuracy: 46.6%\n",
      "Epoch 3/60\n",
      "-------------------------------\n",
      "#    0;\ttrain_loss: 1.150;\ttrain_accuracy: 62.5%\t\t[    0/ 1016]\n"
     ]
    },
    {
     "name": "stdout",
     "output_type": "stream",
     "text": [
      "#   10;\ttrain_loss: 1.563;\ttrain_accuracy: 43.8%\t\t[  160/ 1016]\n",
      "#   20;\ttrain_loss: 1.874;\ttrain_accuracy: 31.2%\t\t[  320/ 1016]\n",
      "#   30;\ttrain_loss: 1.494;\ttrain_accuracy: 43.8%\t\t[  480/ 1016]\n"
     ]
    },
    {
     "name": "stdout",
     "output_type": "stream",
     "text": [
      "#   40;\ttrain_loss: 0.973;\ttrain_accuracy: 68.8%\t\t[  640/ 1016]\n",
      "#   50;\ttrain_loss: 2.260;\ttrain_accuracy: 18.8%\t\t[  800/ 1016]\n",
      "#   60;\ttrain_loss: 1.005;\ttrain_accuracy: 68.8%\t\t[  960/ 1016]\n"
     ]
    },
    {
     "name": "stdout",
     "output_type": "stream",
     "text": [
      "Valid metrics:\n",
      "\t avg_loss: 0.102187;\t avg_accuracy: 49.0%\n",
      "Epoch 4/60\n",
      "-------------------------------\n",
      "#    0;\ttrain_loss: 1.391;\ttrain_accuracy: 50.0%\t\t[    0/ 1016]\n",
      "#   10;\ttrain_loss: 1.385;\ttrain_accuracy: 50.0%\t\t[  160/ 1016]\n",
      "#   20;\ttrain_loss: 1.682;\ttrain_accuracy: 31.2%\t\t[  320/ 1016]\n"
     ]
    },
    {
     "name": "stdout",
     "output_type": "stream",
     "text": [
      "#   30;\ttrain_loss: 1.507;\ttrain_accuracy: 43.8%\t\t[  480/ 1016]\n",
      "#   40;\ttrain_loss: 1.149;\ttrain_accuracy: 56.2%\t\t[  640/ 1016]\n",
      "#   50;\ttrain_loss: 1.457;\ttrain_accuracy: 37.5%\t\t[  800/ 1016]\n"
     ]
    },
    {
     "name": "stdout",
     "output_type": "stream",
     "text": [
      "#   60;\ttrain_loss: 1.332;\ttrain_accuracy: 50.0%\t\t[  960/ 1016]\n",
      "Valid metrics:\n",
      "\t avg_loss: 0.094692;\t avg_accuracy: 50.7%\n",
      "Epoch 5/60\n",
      "-------------------------------\n",
      "#    0;\ttrain_loss: 1.240;\ttrain_accuracy: 62.5%\t\t[    0/ 1016]\n",
      "#   10;\ttrain_loss: 1.284;\ttrain_accuracy: 43.8%\t\t[  160/ 1016]\n"
     ]
    },
    {
     "name": "stdout",
     "output_type": "stream",
     "text": [
      "#   20;\ttrain_loss: 1.003;\ttrain_accuracy: 87.5%\t\t[  320/ 1016]\n",
      "#   30;\ttrain_loss: 1.614;\ttrain_accuracy: 43.8%\t\t[  480/ 1016]\n",
      "#   40;\ttrain_loss: 1.553;\ttrain_accuracy: 50.0%\t\t[  640/ 1016]\n"
     ]
    },
    {
     "name": "stdout",
     "output_type": "stream",
     "text": [
      "#   50;\ttrain_loss: 1.129;\ttrain_accuracy: 62.5%\t\t[  800/ 1016]\n",
      "#   60;\ttrain_loss: 1.308;\ttrain_accuracy: 62.5%\t\t[  960/ 1016]\n",
      "Valid metrics:\n",
      "\t avg_loss: 0.094116;\t avg_accuracy: 52.4%\n",
      "Epoch 6/60\n",
      "-------------------------------\n",
      "#    0;\ttrain_loss: 1.663;\ttrain_accuracy: 37.5%\t\t[    0/ 1016]\n"
     ]
    },
    {
     "name": "stdout",
     "output_type": "stream",
     "text": [
      "#   10;\ttrain_loss: 1.686;\ttrain_accuracy: 43.8%\t\t[  160/ 1016]\n",
      "#   20;\ttrain_loss: 1.797;\ttrain_accuracy: 43.8%\t\t[  320/ 1016]\n",
      "#   30;\ttrain_loss: 1.099;\ttrain_accuracy: 68.8%\t\t[  480/ 1016]\n"
     ]
    },
    {
     "name": "stdout",
     "output_type": "stream",
     "text": [
      "#   40;\ttrain_loss: 1.198;\ttrain_accuracy: 56.2%\t\t[  640/ 1016]\n",
      "#   50;\ttrain_loss: 1.388;\ttrain_accuracy: 50.0%\t\t[  800/ 1016]\n",
      "#   60;\ttrain_loss: 0.963;\ttrain_accuracy: 62.5%\t\t[  960/ 1016]\n"
     ]
    },
    {
     "name": "stdout",
     "output_type": "stream",
     "text": [
      "Valid metrics:\n",
      "\t avg_loss: 0.086454;\t avg_accuracy: 52.1%\n",
      "Epoch 7/60\n",
      "-------------------------------\n",
      "#    0;\ttrain_loss: 1.664;\ttrain_accuracy: 37.5%\t\t[    0/ 1016]\n",
      "#   10;\ttrain_loss: 1.501;\ttrain_accuracy: 50.0%\t\t[  160/ 1016]\n",
      "#   20;\ttrain_loss: 1.590;\ttrain_accuracy: 50.0%\t\t[  320/ 1016]\n"
     ]
    },
    {
     "name": "stdout",
     "output_type": "stream",
     "text": [
      "#   30;\ttrain_loss: 1.259;\ttrain_accuracy: 62.5%\t\t[  480/ 1016]\n",
      "#   40;\ttrain_loss: 0.933;\ttrain_accuracy: 68.8%\t\t[  640/ 1016]\n",
      "#   50;\ttrain_loss: 1.284;\ttrain_accuracy: 50.0%\t\t[  800/ 1016]\n"
     ]
    },
    {
     "name": "stdout",
     "output_type": "stream",
     "text": [
      "#   60;\ttrain_loss: 1.119;\ttrain_accuracy: 75.0%\t\t[  960/ 1016]\n",
      "Valid metrics:\n",
      "\t avg_loss: 0.090072;\t avg_accuracy: 54.1%\n",
      "Epoch 8/60\n",
      "-------------------------------\n",
      "#    0;\ttrain_loss: 1.124;\ttrain_accuracy: 68.8%\t\t[    0/ 1016]\n",
      "#   10;\ttrain_loss: 1.274;\ttrain_accuracy: 56.2%\t\t[  160/ 1016]\n"
     ]
    },
    {
     "name": "stdout",
     "output_type": "stream",
     "text": [
      "#   20;\ttrain_loss: 1.357;\ttrain_accuracy: 50.0%\t\t[  320/ 1016]\n",
      "#   30;\ttrain_loss: 1.351;\ttrain_accuracy: 56.2%\t\t[  480/ 1016]\n",
      "#   40;\ttrain_loss: 1.627;\ttrain_accuracy: 43.8%\t\t[  640/ 1016]\n"
     ]
    },
    {
     "name": "stdout",
     "output_type": "stream",
     "text": [
      "#   50;\ttrain_loss: 1.148;\ttrain_accuracy: 62.5%\t\t[  800/ 1016]\n",
      "#   60;\ttrain_loss: 1.459;\ttrain_accuracy: 56.2%\t\t[  960/ 1016]\n",
      "Valid metrics:\n",
      "\t avg_loss: 0.085622;\t avg_accuracy: 57.6%\n",
      "Epoch 9/60\n",
      "-------------------------------\n",
      "#    0;\ttrain_loss: 1.185;\ttrain_accuracy: 62.5%\t\t[    0/ 1016]\n"
     ]
    },
    {
     "name": "stdout",
     "output_type": "stream",
     "text": [
      "#   10;\ttrain_loss: 1.401;\ttrain_accuracy: 56.2%\t\t[  160/ 1016]\n",
      "#   20;\ttrain_loss: 1.026;\ttrain_accuracy: 62.5%\t\t[  320/ 1016]\n",
      "#   30;\ttrain_loss: 1.257;\ttrain_accuracy: 56.2%\t\t[  480/ 1016]\n"
     ]
    },
    {
     "name": "stdout",
     "output_type": "stream",
     "text": [
      "#   40;\ttrain_loss: 1.398;\ttrain_accuracy: 43.8%\t\t[  640/ 1016]\n",
      "#   50;\ttrain_loss: 0.686;\ttrain_accuracy: 68.8%\t\t[  800/ 1016]\n",
      "#   60;\ttrain_loss: 1.460;\ttrain_accuracy: 56.2%\t\t[  960/ 1016]\n"
     ]
    },
    {
     "name": "stdout",
     "output_type": "stream",
     "text": [
      "Valid metrics:\n",
      "\t avg_loss: 0.078870;\t avg_accuracy: 59.0%\n",
      "Epoch 10/60\n",
      "-------------------------------\n",
      "#    0;\ttrain_loss: 1.229;\ttrain_accuracy: 62.5%\t\t[    0/ 1016]\n",
      "#   10;\ttrain_loss: 1.408;\ttrain_accuracy: 37.5%\t\t[  160/ 1016]\n",
      "#   20;\ttrain_loss: 0.888;\ttrain_accuracy: 75.0%\t\t[  320/ 1016]\n"
     ]
    },
    {
     "name": "stdout",
     "output_type": "stream",
     "text": [
      "#   30;\ttrain_loss: 1.443;\ttrain_accuracy: 50.0%\t\t[  480/ 1016]\n",
      "#   40;\ttrain_loss: 1.170;\ttrain_accuracy: 62.5%\t\t[  640/ 1016]\n",
      "#   50;\ttrain_loss: 1.384;\ttrain_accuracy: 56.2%\t\t[  800/ 1016]\n"
     ]
    },
    {
     "name": "stdout",
     "output_type": "stream",
     "text": [
      "#   60;\ttrain_loss: 0.994;\ttrain_accuracy: 68.8%\t\t[  960/ 1016]\n",
      "Valid metrics:\n",
      "\t avg_loss: 0.079604;\t avg_accuracy: 59.7%\n",
      "Epoch 11/60\n",
      "-------------------------------\n",
      "#    0;\ttrain_loss: 1.080;\ttrain_accuracy: 62.5%\t\t[    0/ 1016]\n",
      "#   10;\ttrain_loss: 1.517;\ttrain_accuracy: 37.5%\t\t[  160/ 1016]\n"
     ]
    },
    {
     "name": "stdout",
     "output_type": "stream",
     "text": [
      "#   20;\ttrain_loss: 1.259;\ttrain_accuracy: 68.8%\t\t[  320/ 1016]\n",
      "#   30;\ttrain_loss: 1.202;\ttrain_accuracy: 75.0%\t\t[  480/ 1016]\n",
      "#   40;\ttrain_loss: 1.372;\ttrain_accuracy: 43.8%\t\t[  640/ 1016]\n"
     ]
    },
    {
     "name": "stdout",
     "output_type": "stream",
     "text": [
      "#   50;\ttrain_loss: 1.189;\ttrain_accuracy: 68.8%\t\t[  800/ 1016]\n",
      "#   60;\ttrain_loss: 1.238;\ttrain_accuracy: 50.0%\t\t[  960/ 1016]\n",
      "Valid metrics:\n",
      "\t avg_loss: 0.083376;\t avg_accuracy: 60.7%\n",
      "Epoch 12/60\n",
      "-------------------------------\n",
      "#    0;\ttrain_loss: 0.964;\ttrain_accuracy: 75.0%\t\t[    0/ 1016]\n"
     ]
    },
    {
     "name": "stdout",
     "output_type": "stream",
     "text": [
      "#   10;\ttrain_loss: 1.222;\ttrain_accuracy: 56.2%\t\t[  160/ 1016]\n",
      "#   20;\ttrain_loss: 0.829;\ttrain_accuracy: 68.8%\t\t[  320/ 1016]\n",
      "#   30;\ttrain_loss: 0.721;\ttrain_accuracy: 81.2%\t\t[  480/ 1016]\n"
     ]
    },
    {
     "name": "stdout",
     "output_type": "stream",
     "text": [
      "#   40;\ttrain_loss: 1.356;\ttrain_accuracy: 50.0%\t\t[  640/ 1016]\n",
      "#   50;\ttrain_loss: 0.984;\ttrain_accuracy: 62.5%\t\t[  800/ 1016]\n",
      "#   60;\ttrain_loss: 1.010;\ttrain_accuracy: 62.5%\t\t[  960/ 1016]\n"
     ]
    },
    {
     "name": "stdout",
     "output_type": "stream",
     "text": [
      "Valid metrics:\n",
      "\t avg_loss: 0.074342;\t avg_accuracy: 59.3%\n",
      "Epoch 13/60\n",
      "-------------------------------\n",
      "#    0;\ttrain_loss: 0.858;\ttrain_accuracy: 68.8%\t\t[    0/ 1016]\n",
      "#   10;\ttrain_loss: 1.044;\ttrain_accuracy: 56.2%\t\t[  160/ 1016]\n",
      "#   20;\ttrain_loss: 0.791;\ttrain_accuracy: 75.0%\t\t[  320/ 1016]\n"
     ]
    },
    {
     "name": "stdout",
     "output_type": "stream",
     "text": [
      "#   30;\ttrain_loss: 1.173;\ttrain_accuracy: 50.0%\t\t[  480/ 1016]\n",
      "#   40;\ttrain_loss: 1.060;\ttrain_accuracy: 62.5%\t\t[  640/ 1016]\n",
      "#   50;\ttrain_loss: 1.343;\ttrain_accuracy: 50.0%\t\t[  800/ 1016]\n"
     ]
    },
    {
     "name": "stdout",
     "output_type": "stream",
     "text": [
      "#   60;\ttrain_loss: 0.874;\ttrain_accuracy: 87.5%\t\t[  960/ 1016]\n",
      "Valid metrics:\n",
      "\t avg_loss: 0.075460;\t avg_accuracy: 61.0%\n",
      "Epoch 14/60\n",
      "-------------------------------\n",
      "#    0;\ttrain_loss: 1.493;\ttrain_accuracy: 50.0%\t\t[    0/ 1016]\n",
      "#   10;\ttrain_loss: 1.185;\ttrain_accuracy: 56.2%\t\t[  160/ 1016]\n"
     ]
    },
    {
     "name": "stdout",
     "output_type": "stream",
     "text": [
      "#   20;\ttrain_loss: 1.412;\ttrain_accuracy: 43.8%\t\t[  320/ 1016]\n",
      "#   30;\ttrain_loss: 1.224;\ttrain_accuracy: 62.5%\t\t[  480/ 1016]\n",
      "#   40;\ttrain_loss: 1.136;\ttrain_accuracy: 50.0%\t\t[  640/ 1016]\n"
     ]
    },
    {
     "name": "stdout",
     "output_type": "stream",
     "text": [
      "#   50;\ttrain_loss: 0.927;\ttrain_accuracy: 68.8%\t\t[  800/ 1016]\n",
      "#   60;\ttrain_loss: 1.274;\ttrain_accuracy: 75.0%\t\t[  960/ 1016]\n",
      "Valid metrics:\n",
      "\t avg_loss: 0.074769;\t avg_accuracy: 63.4%\n",
      "Epoch 15/60\n",
      "-------------------------------\n",
      "#    0;\ttrain_loss: 1.104;\ttrain_accuracy: 68.8%\t\t[    0/ 1016]\n"
     ]
    },
    {
     "name": "stdout",
     "output_type": "stream",
     "text": [
      "#   10;\ttrain_loss: 1.047;\ttrain_accuracy: 56.2%\t\t[  160/ 1016]\n",
      "#   20;\ttrain_loss: 1.359;\ttrain_accuracy: 50.0%\t\t[  320/ 1016]\n",
      "#   30;\ttrain_loss: 1.195;\ttrain_accuracy: 62.5%\t\t[  480/ 1016]\n"
     ]
    },
    {
     "name": "stdout",
     "output_type": "stream",
     "text": [
      "#   40;\ttrain_loss: 0.962;\ttrain_accuracy: 62.5%\t\t[  640/ 1016]\n",
      "#   50;\ttrain_loss: 0.890;\ttrain_accuracy: 81.2%\t\t[  800/ 1016]\n",
      "#   60;\ttrain_loss: 1.150;\ttrain_accuracy: 62.5%\t\t[  960/ 1016]\n"
     ]
    },
    {
     "name": "stdout",
     "output_type": "stream",
     "text": [
      "Valid metrics:\n",
      "\t avg_loss: 0.078128;\t avg_accuracy: 62.4%\n",
      "Epoch 16/60\n",
      "-------------------------------\n",
      "#    0;\ttrain_loss: 0.977;\ttrain_accuracy: 68.8%\t\t[    0/ 1016]\n",
      "#   10;\ttrain_loss: 1.091;\ttrain_accuracy: 68.8%\t\t[  160/ 1016]\n",
      "#   20;\ttrain_loss: 0.727;\ttrain_accuracy: 62.5%\t\t[  320/ 1016]\n"
     ]
    },
    {
     "name": "stdout",
     "output_type": "stream",
     "text": [
      "#   30;\ttrain_loss: 1.022;\ttrain_accuracy: 50.0%\t\t[  480/ 1016]\n",
      "#   40;\ttrain_loss: 0.901;\ttrain_accuracy: 62.5%\t\t[  640/ 1016]\n",
      "#   50;\ttrain_loss: 0.802;\ttrain_accuracy: 75.0%\t\t[  800/ 1016]\n"
     ]
    },
    {
     "name": "stdout",
     "output_type": "stream",
     "text": [
      "#   60;\ttrain_loss: 0.399;\ttrain_accuracy: 93.8%\t\t[  960/ 1016]\n",
      "Valid metrics:\n",
      "\t avg_loss: 0.073964;\t avg_accuracy: 62.8%\n",
      "Epoch 17/60\n",
      "-------------------------------\n",
      "#    0;\ttrain_loss: 0.692;\ttrain_accuracy: 87.5%\t\t[    0/ 1016]\n",
      "#   10;\ttrain_loss: 1.401;\ttrain_accuracy: 50.0%\t\t[  160/ 1016]\n"
     ]
    },
    {
     "name": "stdout",
     "output_type": "stream",
     "text": [
      "#   20;\ttrain_loss: 1.026;\ttrain_accuracy: 68.8%\t\t[  320/ 1016]\n",
      "#   30;\ttrain_loss: 1.069;\ttrain_accuracy: 81.2%\t\t[  480/ 1016]\n",
      "#   40;\ttrain_loss: 1.141;\ttrain_accuracy: 50.0%\t\t[  640/ 1016]\n"
     ]
    },
    {
     "name": "stdout",
     "output_type": "stream",
     "text": [
      "#   50;\ttrain_loss: 1.073;\ttrain_accuracy: 68.8%\t\t[  800/ 1016]\n",
      "#   60;\ttrain_loss: 0.684;\ttrain_accuracy: 75.0%\t\t[  960/ 1016]\n",
      "Valid metrics:\n",
      "\t avg_loss: 0.067829;\t avg_accuracy: 62.1%\n",
      "Epoch 18/60\n",
      "-------------------------------\n",
      "#    0;\ttrain_loss: 0.782;\ttrain_accuracy: 87.5%\t\t[    0/ 1016]\n"
     ]
    },
    {
     "name": "stdout",
     "output_type": "stream",
     "text": [
      "#   10;\ttrain_loss: 1.074;\ttrain_accuracy: 68.8%\t\t[  160/ 1016]\n",
      "#   20;\ttrain_loss: 1.464;\ttrain_accuracy: 62.5%\t\t[  320/ 1016]\n",
      "#   30;\ttrain_loss: 1.714;\ttrain_accuracy: 43.8%\t\t[  480/ 1016]\n"
     ]
    },
    {
     "name": "stdout",
     "output_type": "stream",
     "text": [
      "#   40;\ttrain_loss: 1.099;\ttrain_accuracy: 56.2%\t\t[  640/ 1016]\n",
      "#   50;\ttrain_loss: 1.556;\ttrain_accuracy: 37.5%\t\t[  800/ 1016]\n",
      "#   60;\ttrain_loss: 0.584;\ttrain_accuracy: 81.2%\t\t[  960/ 1016]\n"
     ]
    },
    {
     "name": "stdout",
     "output_type": "stream",
     "text": [
      "Valid metrics:\n",
      "\t avg_loss: 0.069640;\t avg_accuracy: 65.2%\n",
      "Epoch 19/60\n",
      "-------------------------------\n",
      "#    0;\ttrain_loss: 1.199;\ttrain_accuracy: 56.2%\t\t[    0/ 1016]\n",
      "#   10;\ttrain_loss: 1.826;\ttrain_accuracy: 25.0%\t\t[  160/ 1016]\n",
      "#   20;\ttrain_loss: 0.768;\ttrain_accuracy: 75.0%\t\t[  320/ 1016]\n"
     ]
    },
    {
     "name": "stdout",
     "output_type": "stream",
     "text": [
      "#   30;\ttrain_loss: 0.894;\ttrain_accuracy: 75.0%\t\t[  480/ 1016]\n",
      "#   40;\ttrain_loss: 0.613;\ttrain_accuracy: 81.2%\t\t[  640/ 1016]\n",
      "#   50;\ttrain_loss: 1.198;\ttrain_accuracy: 68.8%\t\t[  800/ 1016]\n"
     ]
    },
    {
     "name": "stdout",
     "output_type": "stream",
     "text": [
      "#   60;\ttrain_loss: 0.658;\ttrain_accuracy: 75.0%\t\t[  960/ 1016]\n",
      "Valid metrics:\n",
      "\t avg_loss: 0.067472;\t avg_accuracy: 66.6%\n",
      "Epoch 20/60\n",
      "-------------------------------\n",
      "#    0;\ttrain_loss: 0.861;\ttrain_accuracy: 75.0%\t\t[    0/ 1016]\n",
      "#   10;\ttrain_loss: 0.738;\ttrain_accuracy: 75.0%\t\t[  160/ 1016]\n"
     ]
    },
    {
     "name": "stdout",
     "output_type": "stream",
     "text": [
      "#   20;\ttrain_loss: 0.821;\ttrain_accuracy: 75.0%\t\t[  320/ 1016]\n",
      "#   30;\ttrain_loss: 0.786;\ttrain_accuracy: 75.0%\t\t[  480/ 1016]\n",
      "#   40;\ttrain_loss: 1.084;\ttrain_accuracy: 68.8%\t\t[  640/ 1016]\n"
     ]
    },
    {
     "name": "stdout",
     "output_type": "stream",
     "text": [
      "#   50;\ttrain_loss: 1.087;\ttrain_accuracy: 56.2%\t\t[  800/ 1016]\n",
      "#   60;\ttrain_loss: 0.870;\ttrain_accuracy: 68.8%\t\t[  960/ 1016]\n",
      "Valid metrics:\n",
      "\t avg_loss: 0.067936;\t avg_accuracy: 65.9%\n",
      "Epoch 21/60\n",
      "-------------------------------\n",
      "#    0;\ttrain_loss: 0.917;\ttrain_accuracy: 68.8%\t\t[    0/ 1016]\n"
     ]
    },
    {
     "name": "stdout",
     "output_type": "stream",
     "text": [
      "#   10;\ttrain_loss: 1.139;\ttrain_accuracy: 68.8%\t\t[  160/ 1016]\n",
      "#   20;\ttrain_loss: 0.367;\ttrain_accuracy: 93.8%\t\t[  320/ 1016]\n",
      "#   30;\ttrain_loss: 0.766;\ttrain_accuracy: 62.5%\t\t[  480/ 1016]\n"
     ]
    },
    {
     "name": "stdout",
     "output_type": "stream",
     "text": [
      "#   40;\ttrain_loss: 1.164;\ttrain_accuracy: 56.2%\t\t[  640/ 1016]\n",
      "#   50;\ttrain_loss: 0.846;\ttrain_accuracy: 68.8%\t\t[  800/ 1016]\n",
      "#   60;\ttrain_loss: 0.567;\ttrain_accuracy: 81.2%\t\t[  960/ 1016]\n"
     ]
    },
    {
     "name": "stdout",
     "output_type": "stream",
     "text": [
      "Valid metrics:\n",
      "\t avg_loss: 0.062603;\t avg_accuracy: 69.0%\n",
      "Epoch 22/60\n",
      "-------------------------------\n",
      "#    0;\ttrain_loss: 0.292;\ttrain_accuracy: 87.5%\t\t[    0/ 1016]\n",
      "#   10;\ttrain_loss: 1.269;\ttrain_accuracy: 68.8%\t\t[  160/ 1016]\n",
      "#   20;\ttrain_loss: 0.442;\ttrain_accuracy: 87.5%\t\t[  320/ 1016]\n"
     ]
    },
    {
     "name": "stdout",
     "output_type": "stream",
     "text": [
      "#   30;\ttrain_loss: 0.976;\ttrain_accuracy: 62.5%\t\t[  480/ 1016]\n",
      "#   40;\ttrain_loss: 0.991;\ttrain_accuracy: 68.8%\t\t[  640/ 1016]\n",
      "#   50;\ttrain_loss: 0.980;\ttrain_accuracy: 62.5%\t\t[  800/ 1016]\n"
     ]
    },
    {
     "name": "stdout",
     "output_type": "stream",
     "text": [
      "#   60;\ttrain_loss: 0.453;\ttrain_accuracy: 87.5%\t\t[  960/ 1016]\n",
      "Valid metrics:\n",
      "\t avg_loss: 0.062915;\t avg_accuracy: 67.9%\n",
      "Epoch 23/60\n",
      "-------------------------------\n",
      "#    0;\ttrain_loss: 1.112;\ttrain_accuracy: 62.5%\t\t[    0/ 1016]\n",
      "#   10;\ttrain_loss: 1.029;\ttrain_accuracy: 62.5%\t\t[  160/ 1016]\n"
     ]
    },
    {
     "name": "stdout",
     "output_type": "stream",
     "text": [
      "#   20;\ttrain_loss: 0.507;\ttrain_accuracy: 87.5%\t\t[  320/ 1016]\n",
      "#   30;\ttrain_loss: 0.715;\ttrain_accuracy: 81.2%\t\t[  480/ 1016]\n",
      "#   40;\ttrain_loss: 0.872;\ttrain_accuracy: 62.5%\t\t[  640/ 1016]\n"
     ]
    },
    {
     "name": "stdout",
     "output_type": "stream",
     "text": [
      "#   50;\ttrain_loss: 0.500;\ttrain_accuracy: 93.8%\t\t[  800/ 1016]\n",
      "#   60;\ttrain_loss: 0.533;\ttrain_accuracy: 81.2%\t\t[  960/ 1016]\n",
      "Valid metrics:\n",
      "\t avg_loss: 0.063635;\t avg_accuracy: 68.6%\n",
      "Epoch 24/60\n",
      "-------------------------------\n",
      "#    0;\ttrain_loss: 0.933;\ttrain_accuracy: 68.8%\t\t[    0/ 1016]\n"
     ]
    },
    {
     "name": "stdout",
     "output_type": "stream",
     "text": [
      "#   10;\ttrain_loss: 0.767;\ttrain_accuracy: 81.2%\t\t[  160/ 1016]\n",
      "#   20;\ttrain_loss: 0.483;\ttrain_accuracy: 87.5%\t\t[  320/ 1016]\n",
      "#   30;\ttrain_loss: 0.940;\ttrain_accuracy: 68.8%\t\t[  480/ 1016]\n"
     ]
    },
    {
     "name": "stdout",
     "output_type": "stream",
     "text": [
      "#   40;\ttrain_loss: 0.339;\ttrain_accuracy: 93.8%\t\t[  640/ 1016]\n",
      "#   50;\ttrain_loss: 0.594;\ttrain_accuracy: 93.8%\t\t[  800/ 1016]\n",
      "#   60;\ttrain_loss: 0.428;\ttrain_accuracy: 93.8%\t\t[  960/ 1016]\n"
     ]
    },
    {
     "name": "stdout",
     "output_type": "stream",
     "text": [
      "Valid metrics:\n",
      "\t avg_loss: 0.060803;\t avg_accuracy: 69.7%\n",
      "Epoch 25/60\n",
      "-------------------------------\n",
      "#    0;\ttrain_loss: 0.651;\ttrain_accuracy: 81.2%\t\t[    0/ 1016]\n",
      "#   10;\ttrain_loss: 0.644;\ttrain_accuracy: 81.2%\t\t[  160/ 1016]\n",
      "#   20;\ttrain_loss: 0.689;\ttrain_accuracy: 75.0%\t\t[  320/ 1016]\n"
     ]
    },
    {
     "name": "stdout",
     "output_type": "stream",
     "text": [
      "#   30;\ttrain_loss: 0.402;\ttrain_accuracy: 93.8%\t\t[  480/ 1016]\n",
      "#   40;\ttrain_loss: 0.361;\ttrain_accuracy: 93.8%\t\t[  640/ 1016]\n",
      "#   50;\ttrain_loss: 0.913;\ttrain_accuracy: 75.0%\t\t[  800/ 1016]\n"
     ]
    },
    {
     "name": "stdout",
     "output_type": "stream",
     "text": [
      "#   60;\ttrain_loss: 0.947;\ttrain_accuracy: 68.8%\t\t[  960/ 1016]\n",
      "Valid metrics:\n",
      "\t avg_loss: 0.067767;\t avg_accuracy: 69.0%\n",
      "Epoch 26/60\n",
      "-------------------------------\n",
      "#    0;\ttrain_loss: 0.428;\ttrain_accuracy: 87.5%\t\t[    0/ 1016]\n",
      "#   10;\ttrain_loss: 1.063;\ttrain_accuracy: 62.5%\t\t[  160/ 1016]\n"
     ]
    },
    {
     "name": "stdout",
     "output_type": "stream",
     "text": [
      "#   20;\ttrain_loss: 0.824;\ttrain_accuracy: 75.0%\t\t[  320/ 1016]\n",
      "#   30;\ttrain_loss: 0.696;\ttrain_accuracy: 87.5%\t\t[  480/ 1016]\n",
      "#   40;\ttrain_loss: 0.596;\ttrain_accuracy: 81.2%\t\t[  640/ 1016]\n"
     ]
    },
    {
     "name": "stdout",
     "output_type": "stream",
     "text": [
      "#   50;\ttrain_loss: 0.946;\ttrain_accuracy: 68.8%\t\t[  800/ 1016]\n",
      "#   60;\ttrain_loss: 0.843;\ttrain_accuracy: 75.0%\t\t[  960/ 1016]\n",
      "Valid metrics:\n",
      "\t avg_loss: 0.069538;\t avg_accuracy: 68.6%\n",
      "Epoch 27/60\n",
      "-------------------------------\n",
      "#    0;\ttrain_loss: 0.448;\ttrain_accuracy: 87.5%\t\t[    0/ 1016]\n"
     ]
    },
    {
     "name": "stdout",
     "output_type": "stream",
     "text": [
      "#   10;\ttrain_loss: 0.624;\ttrain_accuracy: 75.0%\t\t[  160/ 1016]\n",
      "#   20;\ttrain_loss: 0.537;\ttrain_accuracy: 81.2%\t\t[  320/ 1016]\n",
      "#   30;\ttrain_loss: 0.454;\ttrain_accuracy: 87.5%\t\t[  480/ 1016]\n"
     ]
    },
    {
     "name": "stdout",
     "output_type": "stream",
     "text": [
      "#   40;\ttrain_loss: 0.748;\ttrain_accuracy: 81.2%\t\t[  640/ 1016]\n",
      "#   50;\ttrain_loss: 1.206;\ttrain_accuracy: 62.5%\t\t[  800/ 1016]\n",
      "#   60;\ttrain_loss: 0.681;\ttrain_accuracy: 81.2%\t\t[  960/ 1016]\n"
     ]
    },
    {
     "name": "stdout",
     "output_type": "stream",
     "text": [
      "Valid metrics:\n",
      "\t avg_loss: 0.060687;\t avg_accuracy: 70.7%\n",
      "Epoch 28/60\n",
      "-------------------------------\n",
      "#    0;\ttrain_loss: 0.420;\ttrain_accuracy: 81.2%\t\t[    0/ 1016]\n",
      "#   10;\ttrain_loss: 0.488;\ttrain_accuracy: 87.5%\t\t[  160/ 1016]\n",
      "#   20;\ttrain_loss: 0.650;\ttrain_accuracy: 81.2%\t\t[  320/ 1016]\n"
     ]
    },
    {
     "name": "stdout",
     "output_type": "stream",
     "text": [
      "#   30;\ttrain_loss: 0.759;\ttrain_accuracy: 68.8%\t\t[  480/ 1016]\n",
      "#   40;\ttrain_loss: 0.217;\ttrain_accuracy: 93.8%\t\t[  640/ 1016]\n",
      "#   50;\ttrain_loss: 0.787;\ttrain_accuracy: 68.8%\t\t[  800/ 1016]\n"
     ]
    },
    {
     "name": "stdout",
     "output_type": "stream",
     "text": [
      "#   60;\ttrain_loss: 0.390;\ttrain_accuracy: 93.8%\t\t[  960/ 1016]\n",
      "Valid metrics:\n",
      "\t avg_loss: 0.066341;\t avg_accuracy: 66.9%\n",
      "Epoch 29/60\n",
      "-------------------------------\n",
      "#    0;\ttrain_loss: 0.600;\ttrain_accuracy: 68.8%\t\t[    0/ 1016]\n",
      "#   10;\ttrain_loss: 0.458;\ttrain_accuracy: 87.5%\t\t[  160/ 1016]\n"
     ]
    },
    {
     "name": "stdout",
     "output_type": "stream",
     "text": [
      "#   20;\ttrain_loss: 0.786;\ttrain_accuracy: 68.8%\t\t[  320/ 1016]\n",
      "#   30;\ttrain_loss: 0.675;\ttrain_accuracy: 81.2%\t\t[  480/ 1016]\n",
      "#   40;\ttrain_loss: 0.878;\ttrain_accuracy: 62.5%\t\t[  640/ 1016]\n"
     ]
    },
    {
     "name": "stdout",
     "output_type": "stream",
     "text": [
      "#   50;\ttrain_loss: 0.367;\ttrain_accuracy: 93.8%\t\t[  800/ 1016]\n",
      "#   60;\ttrain_loss: 1.287;\ttrain_accuracy: 68.8%\t\t[  960/ 1016]\n",
      "Valid metrics:\n",
      "\t avg_loss: 0.066375;\t avg_accuracy: 67.9%\n",
      "Epoch 30/60\n",
      "-------------------------------\n",
      "#    0;\ttrain_loss: 0.471;\ttrain_accuracy: 75.0%\t\t[    0/ 1016]\n"
     ]
    },
    {
     "name": "stdout",
     "output_type": "stream",
     "text": [
      "#   10;\ttrain_loss: 0.196;\ttrain_accuracy:100.0%\t\t[  160/ 1016]\n",
      "#   20;\ttrain_loss: 0.754;\ttrain_accuracy: 75.0%\t\t[  320/ 1016]\n",
      "#   30;\ttrain_loss: 0.778;\ttrain_accuracy: 75.0%\t\t[  480/ 1016]\n"
     ]
    },
    {
     "name": "stdout",
     "output_type": "stream",
     "text": [
      "#   40;\ttrain_loss: 0.745;\ttrain_accuracy: 75.0%\t\t[  640/ 1016]\n",
      "#   50;\ttrain_loss: 0.413;\ttrain_accuracy: 87.5%\t\t[  800/ 1016]\n",
      "#   60;\ttrain_loss: 0.533;\ttrain_accuracy: 81.2%\t\t[  960/ 1016]\n"
     ]
    },
    {
     "name": "stdout",
     "output_type": "stream",
     "text": [
      "Valid metrics:\n",
      "\t avg_loss: 0.061950;\t avg_accuracy: 69.7%\n",
      "Epoch 31/60\n",
      "-------------------------------\n",
      "#    0;\ttrain_loss: 0.667;\ttrain_accuracy: 87.5%\t\t[    0/ 1016]\n",
      "#   10;\ttrain_loss: 0.774;\ttrain_accuracy: 75.0%\t\t[  160/ 1016]\n",
      "#   20;\ttrain_loss: 0.700;\ttrain_accuracy: 68.8%\t\t[  320/ 1016]\n"
     ]
    },
    {
     "name": "stdout",
     "output_type": "stream",
     "text": [
      "#   30;\ttrain_loss: 0.379;\ttrain_accuracy:100.0%\t\t[  480/ 1016]\n",
      "#   40;\ttrain_loss: 0.646;\ttrain_accuracy: 75.0%\t\t[  640/ 1016]\n",
      "#   50;\ttrain_loss: 1.087;\ttrain_accuracy: 75.0%\t\t[  800/ 1016]\n"
     ]
    },
    {
     "name": "stdout",
     "output_type": "stream",
     "text": [
      "#   60;\ttrain_loss: 1.054;\ttrain_accuracy: 75.0%\t\t[  960/ 1016]\n",
      "Valid metrics:\n",
      "\t avg_loss: 0.064032;\t avg_accuracy: 72.1%\n",
      "Epoch 32/60\n",
      "-------------------------------\n",
      "#    0;\ttrain_loss: 0.712;\ttrain_accuracy: 87.5%\t\t[    0/ 1016]\n",
      "#   10;\ttrain_loss: 0.263;\ttrain_accuracy: 87.5%\t\t[  160/ 1016]\n"
     ]
    },
    {
     "name": "stdout",
     "output_type": "stream",
     "text": [
      "#   20;\ttrain_loss: 1.010;\ttrain_accuracy: 62.5%\t\t[  320/ 1016]\n",
      "#   30;\ttrain_loss: 0.790;\ttrain_accuracy: 68.8%\t\t[  480/ 1016]\n",
      "#   40;\ttrain_loss: 0.834;\ttrain_accuracy: 75.0%\t\t[  640/ 1016]\n"
     ]
    },
    {
     "name": "stdout",
     "output_type": "stream",
     "text": [
      "#   50;\ttrain_loss: 0.417;\ttrain_accuracy: 87.5%\t\t[  800/ 1016]\n",
      "#   60;\ttrain_loss: 0.268;\ttrain_accuracy: 93.8%\t\t[  960/ 1016]\n",
      "Valid metrics:\n",
      "\t avg_loss: 0.060306;\t avg_accuracy: 68.3%\n",
      "Epoch 33/60\n",
      "-------------------------------\n"
     ]
    },
    {
     "name": "stdout",
     "output_type": "stream",
     "text": [
      "#    0;\ttrain_loss: 0.451;\ttrain_accuracy: 81.2%\t\t[    0/ 1016]\n",
      "#   10;\ttrain_loss: 0.558;\ttrain_accuracy: 81.2%\t\t[  160/ 1016]\n",
      "#   20;\ttrain_loss: 0.544;\ttrain_accuracy: 75.0%\t\t[  320/ 1016]\n"
     ]
    },
    {
     "name": "stdout",
     "output_type": "stream",
     "text": [
      "#   30;\ttrain_loss: 0.483;\ttrain_accuracy: 81.2%\t\t[  480/ 1016]\n",
      "#   40;\ttrain_loss: 0.424;\ttrain_accuracy: 81.2%\t\t[  640/ 1016]\n",
      "#   50;\ttrain_loss: 0.631;\ttrain_accuracy: 75.0%\t\t[  800/ 1016]\n"
     ]
    },
    {
     "name": "stdout",
     "output_type": "stream",
     "text": [
      "#   60;\ttrain_loss: 0.646;\ttrain_accuracy: 75.0%\t\t[  960/ 1016]\n",
      "Valid metrics:\n",
      "\t avg_loss: 0.061432;\t avg_accuracy: 70.3%\n",
      "Epoch 34/60\n",
      "-------------------------------\n",
      "#    0;\ttrain_loss: 0.812;\ttrain_accuracy: 62.5%\t\t[    0/ 1016]\n",
      "#   10;\ttrain_loss: 0.902;\ttrain_accuracy: 68.8%\t\t[  160/ 1016]\n"
     ]
    },
    {
     "name": "stdout",
     "output_type": "stream",
     "text": [
      "#   20;\ttrain_loss: 0.675;\ttrain_accuracy: 75.0%\t\t[  320/ 1016]\n",
      "#   30;\ttrain_loss: 0.652;\ttrain_accuracy: 81.2%\t\t[  480/ 1016]\n",
      "#   40;\ttrain_loss: 0.566;\ttrain_accuracy: 68.8%\t\t[  640/ 1016]\n"
     ]
    },
    {
     "name": "stdout",
     "output_type": "stream",
     "text": [
      "#   50;\ttrain_loss: 0.689;\ttrain_accuracy: 75.0%\t\t[  800/ 1016]\n",
      "#   60;\ttrain_loss: 1.141;\ttrain_accuracy: 68.8%\t\t[  960/ 1016]\n",
      "Valid metrics:\n",
      "\t avg_loss: 0.058247;\t avg_accuracy: 72.4%\n",
      "Epoch 35/60\n",
      "-------------------------------\n",
      "#    0;\ttrain_loss: 0.620;\ttrain_accuracy: 81.2%\t\t[    0/ 1016]\n"
     ]
    },
    {
     "name": "stdout",
     "output_type": "stream",
     "text": [
      "#   10;\ttrain_loss: 0.583;\ttrain_accuracy: 68.8%\t\t[  160/ 1016]\n",
      "#   20;\ttrain_loss: 0.647;\ttrain_accuracy: 81.2%\t\t[  320/ 1016]\n",
      "#   30;\ttrain_loss: 0.670;\ttrain_accuracy: 75.0%\t\t[  480/ 1016]\n"
     ]
    },
    {
     "name": "stdout",
     "output_type": "stream",
     "text": [
      "#   40;\ttrain_loss: 0.495;\ttrain_accuracy: 87.5%\t\t[  640/ 1016]\n",
      "#   50;\ttrain_loss: 0.538;\ttrain_accuracy: 87.5%\t\t[  800/ 1016]\n",
      "#   60;\ttrain_loss: 0.521;\ttrain_accuracy: 81.2%\t\t[  960/ 1016]\n"
     ]
    },
    {
     "name": "stdout",
     "output_type": "stream",
     "text": [
      "Valid metrics:\n",
      "\t avg_loss: 0.061816;\t avg_accuracy: 71.4%\n",
      "Epoch 36/60\n",
      "-------------------------------\n",
      "#    0;\ttrain_loss: 0.403;\ttrain_accuracy: 87.5%\t\t[    0/ 1016]\n",
      "#   10;\ttrain_loss: 1.024;\ttrain_accuracy: 75.0%\t\t[  160/ 1016]\n",
      "#   20;\ttrain_loss: 1.241;\ttrain_accuracy: 75.0%\t\t[  320/ 1016]\n"
     ]
    },
    {
     "name": "stdout",
     "output_type": "stream",
     "text": [
      "#   30;\ttrain_loss: 1.150;\ttrain_accuracy: 56.2%\t\t[  480/ 1016]\n",
      "#   40;\ttrain_loss: 0.536;\ttrain_accuracy: 81.2%\t\t[  640/ 1016]\n",
      "#   50;\ttrain_loss: 0.378;\ttrain_accuracy: 81.2%\t\t[  800/ 1016]\n"
     ]
    },
    {
     "name": "stdout",
     "output_type": "stream",
     "text": [
      "#   60;\ttrain_loss: 0.371;\ttrain_accuracy: 93.8%\t\t[  960/ 1016]\n",
      "Valid metrics:\n",
      "\t avg_loss: 0.064976;\t avg_accuracy: 69.7%\n",
      "Epoch 37/60\n",
      "-------------------------------\n",
      "#    0;\ttrain_loss: 0.229;\ttrain_accuracy:100.0%\t\t[    0/ 1016]\n",
      "#   10;\ttrain_loss: 0.352;\ttrain_accuracy: 81.2%\t\t[  160/ 1016]\n"
     ]
    },
    {
     "name": "stdout",
     "output_type": "stream",
     "text": [
      "#   20;\ttrain_loss: 0.768;\ttrain_accuracy: 81.2%\t\t[  320/ 1016]\n",
      "#   30;\ttrain_loss: 0.802;\ttrain_accuracy: 75.0%\t\t[  480/ 1016]\n",
      "#   40;\ttrain_loss: 1.012;\ttrain_accuracy: 68.8%\t\t[  640/ 1016]\n"
     ]
    },
    {
     "name": "stdout",
     "output_type": "stream",
     "text": [
      "#   50;\ttrain_loss: 0.523;\ttrain_accuracy: 81.2%\t\t[  800/ 1016]\n",
      "#   60;\ttrain_loss: 0.270;\ttrain_accuracy: 87.5%\t\t[  960/ 1016]\n",
      "Valid metrics:\n",
      "\t avg_loss: 0.068140;\t avg_accuracy: 67.9%\n",
      "Epoch 38/60\n",
      "-------------------------------\n",
      "#    0;\ttrain_loss: 0.420;\ttrain_accuracy: 87.5%\t\t[    0/ 1016]\n"
     ]
    },
    {
     "name": "stdout",
     "output_type": "stream",
     "text": [
      "#   10;\ttrain_loss: 0.328;\ttrain_accuracy: 87.5%\t\t[  160/ 1016]\n",
      "#   20;\ttrain_loss: 0.723;\ttrain_accuracy: 68.8%\t\t[  320/ 1016]\n",
      "#   30;\ttrain_loss: 0.498;\ttrain_accuracy: 75.0%\t\t[  480/ 1016]\n"
     ]
    },
    {
     "name": "stdout",
     "output_type": "stream",
     "text": [
      "#   40;\ttrain_loss: 0.342;\ttrain_accuracy: 93.8%\t\t[  640/ 1016]\n",
      "#   50;\ttrain_loss: 0.742;\ttrain_accuracy: 68.8%\t\t[  800/ 1016]\n",
      "#   60;\ttrain_loss: 0.260;\ttrain_accuracy: 87.5%\t\t[  960/ 1016]\n"
     ]
    },
    {
     "name": "stdout",
     "output_type": "stream",
     "text": [
      "Valid metrics:\n",
      "\t avg_loss: 0.061707;\t avg_accuracy: 71.0%\n",
      "Epoch 39/60\n",
      "-------------------------------\n",
      "#    0;\ttrain_loss: 0.597;\ttrain_accuracy: 75.0%\t\t[    0/ 1016]\n",
      "#   10;\ttrain_loss: 0.303;\ttrain_accuracy: 93.8%\t\t[  160/ 1016]\n",
      "#   20;\ttrain_loss: 0.803;\ttrain_accuracy: 75.0%\t\t[  320/ 1016]\n"
     ]
    },
    {
     "name": "stdout",
     "output_type": "stream",
     "text": [
      "#   30;\ttrain_loss: 0.343;\ttrain_accuracy: 93.8%\t\t[  480/ 1016]\n",
      "#   40;\ttrain_loss: 0.456;\ttrain_accuracy: 81.2%\t\t[  640/ 1016]\n",
      "#   50;\ttrain_loss: 0.259;\ttrain_accuracy: 87.5%\t\t[  800/ 1016]\n"
     ]
    },
    {
     "name": "stdout",
     "output_type": "stream",
     "text": [
      "#   60;\ttrain_loss: 0.775;\ttrain_accuracy: 62.5%\t\t[  960/ 1016]\n",
      "Valid metrics:\n",
      "\t avg_loss: 0.062773;\t avg_accuracy: 71.4%\n",
      "Epoch 40/60\n",
      "-------------------------------\n",
      "#    0;\ttrain_loss: 0.315;\ttrain_accuracy:100.0%\t\t[    0/ 1016]\n",
      "#   10;\ttrain_loss: 0.332;\ttrain_accuracy: 93.8%\t\t[  160/ 1016]\n"
     ]
    },
    {
     "name": "stdout",
     "output_type": "stream",
     "text": [
      "#   20;\ttrain_loss: 0.783;\ttrain_accuracy: 87.5%\t\t[  320/ 1016]\n",
      "#   30;\ttrain_loss: 0.318;\ttrain_accuracy: 87.5%\t\t[  480/ 1016]\n",
      "#   40;\ttrain_loss: 0.818;\ttrain_accuracy: 68.8%\t\t[  640/ 1016]\n"
     ]
    },
    {
     "name": "stdout",
     "output_type": "stream",
     "text": [
      "#   50;\ttrain_loss: 0.569;\ttrain_accuracy: 75.0%\t\t[  800/ 1016]\n",
      "#   60;\ttrain_loss: 0.114;\ttrain_accuracy: 93.8%\t\t[  960/ 1016]\n",
      "Valid metrics:\n",
      "\t avg_loss: 0.064541;\t avg_accuracy: 69.7%\n",
      "Epoch 41/60\n",
      "-------------------------------\n",
      "#    0;\ttrain_loss: 0.233;\ttrain_accuracy: 93.8%\t\t[    0/ 1016]\n"
     ]
    },
    {
     "name": "stdout",
     "output_type": "stream",
     "text": [
      "#   10;\ttrain_loss: 0.767;\ttrain_accuracy: 75.0%\t\t[  160/ 1016]\n",
      "#   20;\ttrain_loss: 0.248;\ttrain_accuracy:100.0%\t\t[  320/ 1016]\n",
      "#   30;\ttrain_loss: 0.097;\ttrain_accuracy:100.0%\t\t[  480/ 1016]\n"
     ]
    },
    {
     "name": "stdout",
     "output_type": "stream",
     "text": [
      "#   40;\ttrain_loss: 0.609;\ttrain_accuracy: 81.2%\t\t[  640/ 1016]\n",
      "#   50;\ttrain_loss: 0.737;\ttrain_accuracy: 62.5%\t\t[  800/ 1016]\n",
      "#   60;\ttrain_loss: 0.552;\ttrain_accuracy: 87.5%\t\t[  960/ 1016]\n"
     ]
    },
    {
     "name": "stdout",
     "output_type": "stream",
     "text": [
      "Valid metrics:\n",
      "\t avg_loss: 0.067930;\t avg_accuracy: 71.0%\n",
      "Epoch 42/60\n",
      "-------------------------------\n",
      "#    0;\ttrain_loss: 0.820;\ttrain_accuracy: 68.8%\t\t[    0/ 1016]\n",
      "#   10;\ttrain_loss: 0.702;\ttrain_accuracy: 75.0%\t\t[  160/ 1016]\n",
      "#   20;\ttrain_loss: 0.528;\ttrain_accuracy: 81.2%\t\t[  320/ 1016]\n"
     ]
    },
    {
     "name": "stdout",
     "output_type": "stream",
     "text": [
      "#   30;\ttrain_loss: 0.231;\ttrain_accuracy: 93.8%\t\t[  480/ 1016]\n",
      "#   40;\ttrain_loss: 0.709;\ttrain_accuracy: 68.8%\t\t[  640/ 1016]\n",
      "#   50;\ttrain_loss: 0.316;\ttrain_accuracy: 93.8%\t\t[  800/ 1016]\n"
     ]
    },
    {
     "name": "stdout",
     "output_type": "stream",
     "text": [
      "#   60;\ttrain_loss: 0.698;\ttrain_accuracy: 68.8%\t\t[  960/ 1016]\n",
      "Valid metrics:\n",
      "\t avg_loss: 0.059829;\t avg_accuracy: 72.1%\n",
      "Epoch 43/60\n",
      "-------------------------------\n",
      "#    0;\ttrain_loss: 0.866;\ttrain_accuracy: 75.0%\t\t[    0/ 1016]\n",
      "#   10;\ttrain_loss: 0.538;\ttrain_accuracy: 75.0%\t\t[  160/ 1016]\n"
     ]
    },
    {
     "name": "stdout",
     "output_type": "stream",
     "text": [
      "#   20;\ttrain_loss: 0.946;\ttrain_accuracy: 62.5%\t\t[  320/ 1016]\n",
      "#   30;\ttrain_loss: 0.491;\ttrain_accuracy: 81.2%\t\t[  480/ 1016]\n",
      "#   40;\ttrain_loss: 0.308;\ttrain_accuracy: 93.8%\t\t[  640/ 1016]\n"
     ]
    },
    {
     "name": "stdout",
     "output_type": "stream",
     "text": [
      "#   50;\ttrain_loss: 0.501;\ttrain_accuracy: 75.0%\t\t[  800/ 1016]\n",
      "#   60;\ttrain_loss: 0.866;\ttrain_accuracy: 68.8%\t\t[  960/ 1016]\n",
      "Valid metrics:\n",
      "\t avg_loss: 0.066191;\t avg_accuracy: 69.7%\n",
      "Epoch 44/60\n",
      "-------------------------------\n",
      "#    0;\ttrain_loss: 0.167;\ttrain_accuracy:100.0%\t\t[    0/ 1016]\n"
     ]
    },
    {
     "name": "stdout",
     "output_type": "stream",
     "text": [
      "#   10;\ttrain_loss: 0.406;\ttrain_accuracy: 87.5%\t\t[  160/ 1016]\n",
      "#   20;\ttrain_loss: 0.285;\ttrain_accuracy:100.0%\t\t[  320/ 1016]\n",
      "#   30;\ttrain_loss: 0.569;\ttrain_accuracy: 87.5%\t\t[  480/ 1016]\n"
     ]
    },
    {
     "name": "stdout",
     "output_type": "stream",
     "text": [
      "#   40;\ttrain_loss: 0.697;\ttrain_accuracy: 87.5%\t\t[  640/ 1016]\n",
      "#   50;\ttrain_loss: 0.417;\ttrain_accuracy: 87.5%\t\t[  800/ 1016]\n",
      "#   60;\ttrain_loss: 0.929;\ttrain_accuracy: 68.8%\t\t[  960/ 1016]\n"
     ]
    },
    {
     "name": "stdout",
     "output_type": "stream",
     "text": [
      "Valid metrics:\n",
      "\t avg_loss: 0.066464;\t avg_accuracy: 70.3%\n",
      "Epoch 45/60\n",
      "-------------------------------\n",
      "#    0;\ttrain_loss: 0.631;\ttrain_accuracy: 81.2%\t\t[    0/ 1016]\n",
      "#   10;\ttrain_loss: 0.285;\ttrain_accuracy: 87.5%\t\t[  160/ 1016]\n",
      "#   20;\ttrain_loss: 0.464;\ttrain_accuracy: 93.8%\t\t[  320/ 1016]\n"
     ]
    },
    {
     "name": "stdout",
     "output_type": "stream",
     "text": [
      "#   30;\ttrain_loss: 0.640;\ttrain_accuracy: 75.0%\t\t[  480/ 1016]\n",
      "#   40;\ttrain_loss: 0.276;\ttrain_accuracy: 93.8%\t\t[  640/ 1016]\n",
      "#   50;\ttrain_loss: 0.629;\ttrain_accuracy: 81.2%\t\t[  800/ 1016]\n"
     ]
    },
    {
     "name": "stdout",
     "output_type": "stream",
     "text": [
      "#   60;\ttrain_loss: 0.676;\ttrain_accuracy: 81.2%\t\t[  960/ 1016]\n",
      "Valid metrics:\n",
      "\t avg_loss: 0.060027;\t avg_accuracy: 70.7%\n",
      "Epoch 46/60\n",
      "-------------------------------\n",
      "#    0;\ttrain_loss: 0.195;\ttrain_accuracy: 93.8%\t\t[    0/ 1016]\n",
      "#   10;\ttrain_loss: 0.383;\ttrain_accuracy: 87.5%\t\t[  160/ 1016]\n"
     ]
    },
    {
     "name": "stdout",
     "output_type": "stream",
     "text": [
      "#   20;\ttrain_loss: 0.526;\ttrain_accuracy: 81.2%\t\t[  320/ 1016]\n",
      "#   30;\ttrain_loss: 0.649;\ttrain_accuracy: 81.2%\t\t[  480/ 1016]\n",
      "#   40;\ttrain_loss: 0.245;\ttrain_accuracy: 93.8%\t\t[  640/ 1016]\n"
     ]
    },
    {
     "name": "stdout",
     "output_type": "stream",
     "text": [
      "#   50;\ttrain_loss: 0.542;\ttrain_accuracy: 81.2%\t\t[  800/ 1016]\n",
      "#   60;\ttrain_loss: 0.675;\ttrain_accuracy: 81.2%\t\t[  960/ 1016]\n",
      "Valid metrics:\n",
      "\t avg_loss: 0.060508;\t avg_accuracy: 70.7%\n",
      "Epoch 47/60\n",
      "-------------------------------\n",
      "#    0;\ttrain_loss: 0.816;\ttrain_accuracy: 75.0%\t\t[    0/ 1016]\n"
     ]
    },
    {
     "name": "stdout",
     "output_type": "stream",
     "text": [
      "#   10;\ttrain_loss: 0.738;\ttrain_accuracy: 68.8%\t\t[  160/ 1016]\n",
      "#   20;\ttrain_loss: 0.184;\ttrain_accuracy: 93.8%\t\t[  320/ 1016]\n",
      "#   30;\ttrain_loss: 0.206;\ttrain_accuracy: 93.8%\t\t[  480/ 1016]\n"
     ]
    },
    {
     "name": "stdout",
     "output_type": "stream",
     "text": [
      "#   40;\ttrain_loss: 0.344;\ttrain_accuracy: 81.2%\t\t[  640/ 1016]\n",
      "#   50;\ttrain_loss: 0.572;\ttrain_accuracy: 93.8%\t\t[  800/ 1016]\n",
      "#   60;\ttrain_loss: 0.787;\ttrain_accuracy: 87.5%\t\t[  960/ 1016]\n"
     ]
    },
    {
     "name": "stdout",
     "output_type": "stream",
     "text": [
      "Valid metrics:\n",
      "\t avg_loss: 0.064698;\t avg_accuracy: 68.3%\n",
      "Epoch 48/60\n",
      "-------------------------------\n",
      "#    0;\ttrain_loss: 0.221;\ttrain_accuracy: 93.8%\t\t[    0/ 1016]\n",
      "#   10;\ttrain_loss: 0.499;\ttrain_accuracy: 75.0%\t\t[  160/ 1016]\n",
      "#   20;\ttrain_loss: 0.301;\ttrain_accuracy: 81.2%\t\t[  320/ 1016]\n"
     ]
    },
    {
     "name": "stdout",
     "output_type": "stream",
     "text": [
      "#   30;\ttrain_loss: 0.402;\ttrain_accuracy: 81.2%\t\t[  480/ 1016]\n",
      "#   40;\ttrain_loss: 0.421;\ttrain_accuracy: 81.2%\t\t[  640/ 1016]\n",
      "#   50;\ttrain_loss: 0.311;\ttrain_accuracy: 93.8%\t\t[  800/ 1016]\n"
     ]
    },
    {
     "name": "stdout",
     "output_type": "stream",
     "text": [
      "#   60;\ttrain_loss: 0.907;\ttrain_accuracy: 75.0%\t\t[  960/ 1016]\n",
      "Valid metrics:\n",
      "\t avg_loss: 0.066001;\t avg_accuracy: 69.0%\n",
      "Epoch 49/60\n",
      "-------------------------------\n",
      "#    0;\ttrain_loss: 0.897;\ttrain_accuracy: 62.5%\t\t[    0/ 1016]\n",
      "#   10;\ttrain_loss: 0.325;\ttrain_accuracy: 87.5%\t\t[  160/ 1016]\n"
     ]
    },
    {
     "name": "stdout",
     "output_type": "stream",
     "text": [
      "#   20;\ttrain_loss: 0.333;\ttrain_accuracy: 87.5%\t\t[  320/ 1016]\n",
      "#   30;\ttrain_loss: 1.046;\ttrain_accuracy: 62.5%\t\t[  480/ 1016]\n",
      "#   40;\ttrain_loss: 0.644;\ttrain_accuracy: 68.8%\t\t[  640/ 1016]\n"
     ]
    },
    {
     "name": "stdout",
     "output_type": "stream",
     "text": [
      "#   50;\ttrain_loss: 0.623;\ttrain_accuracy: 81.2%\t\t[  800/ 1016]\n",
      "#   60;\ttrain_loss: 0.302;\ttrain_accuracy: 93.8%\t\t[  960/ 1016]\n",
      "Valid metrics:\n",
      "\t avg_loss: 0.059409;\t avg_accuracy: 73.1%\n",
      "Epoch 50/60\n",
      "-------------------------------\n",
      "#    0;\ttrain_loss: 0.412;\ttrain_accuracy: 81.2%\t\t[    0/ 1016]\n"
     ]
    },
    {
     "name": "stdout",
     "output_type": "stream",
     "text": [
      "#   10;\ttrain_loss: 0.345;\ttrain_accuracy: 81.2%\t\t[  160/ 1016]\n",
      "#   20;\ttrain_loss: 0.518;\ttrain_accuracy: 75.0%\t\t[  320/ 1016]\n",
      "#   30;\ttrain_loss: 0.569;\ttrain_accuracy: 75.0%\t\t[  480/ 1016]\n"
     ]
    },
    {
     "name": "stdout",
     "output_type": "stream",
     "text": [
      "#   40;\ttrain_loss: 0.426;\ttrain_accuracy: 81.2%\t\t[  640/ 1016]\n",
      "#   50;\ttrain_loss: 0.577;\ttrain_accuracy: 62.5%\t\t[  800/ 1016]\n",
      "#   60;\ttrain_loss: 0.232;\ttrain_accuracy: 87.5%\t\t[  960/ 1016]\n"
     ]
    },
    {
     "name": "stdout",
     "output_type": "stream",
     "text": [
      "Valid metrics:\n",
      "\t avg_loss: 0.061837;\t avg_accuracy: 70.3%\n",
      "Epoch 51/60\n",
      "-------------------------------\n",
      "#    0;\ttrain_loss: 0.465;\ttrain_accuracy: 81.2%\t\t[    0/ 1016]\n",
      "#   10;\ttrain_loss: 0.693;\ttrain_accuracy: 75.0%\t\t[  160/ 1016]\n",
      "#   20;\ttrain_loss: 0.214;\ttrain_accuracy: 93.8%\t\t[  320/ 1016]\n"
     ]
    },
    {
     "name": "stdout",
     "output_type": "stream",
     "text": [
      "#   30;\ttrain_loss: 0.637;\ttrain_accuracy: 75.0%\t\t[  480/ 1016]\n",
      "#   40;\ttrain_loss: 0.490;\ttrain_accuracy: 87.5%\t\t[  640/ 1016]\n",
      "#   50;\ttrain_loss: 0.282;\ttrain_accuracy: 93.8%\t\t[  800/ 1016]\n"
     ]
    },
    {
     "name": "stdout",
     "output_type": "stream",
     "text": [
      "#   60;\ttrain_loss: 0.743;\ttrain_accuracy: 75.0%\t\t[  960/ 1016]\n",
      "Valid metrics:\n",
      "\t avg_loss: 0.059141;\t avg_accuracy: 74.1%\n",
      "Epoch 52/60\n",
      "-------------------------------\n",
      "#    0;\ttrain_loss: 0.274;\ttrain_accuracy: 87.5%\t\t[    0/ 1016]\n",
      "#   10;\ttrain_loss: 0.474;\ttrain_accuracy: 81.2%\t\t[  160/ 1016]\n"
     ]
    },
    {
     "name": "stdout",
     "output_type": "stream",
     "text": [
      "#   20;\ttrain_loss: 0.322;\ttrain_accuracy: 87.5%\t\t[  320/ 1016]\n",
      "#   30;\ttrain_loss: 0.521;\ttrain_accuracy: 75.0%\t\t[  480/ 1016]\n",
      "#   40;\ttrain_loss: 0.244;\ttrain_accuracy: 93.8%\t\t[  640/ 1016]\n"
     ]
    },
    {
     "name": "stdout",
     "output_type": "stream",
     "text": [
      "#   50;\ttrain_loss: 1.258;\ttrain_accuracy: 62.5%\t\t[  800/ 1016]\n",
      "#   60;\ttrain_loss: 0.229;\ttrain_accuracy:100.0%\t\t[  960/ 1016]\n",
      "Valid metrics:\n",
      "\t avg_loss: 0.068575;\t avg_accuracy: 67.2%\n",
      "Epoch 53/60\n",
      "-------------------------------\n",
      "#    0;\ttrain_loss: 0.358;\ttrain_accuracy: 87.5%\t\t[    0/ 1016]\n"
     ]
    },
    {
     "name": "stdout",
     "output_type": "stream",
     "text": [
      "#   10;\ttrain_loss: 0.321;\ttrain_accuracy: 81.2%\t\t[  160/ 1016]\n",
      "#   20;\ttrain_loss: 0.182;\ttrain_accuracy: 93.8%\t\t[  320/ 1016]\n",
      "#   30;\ttrain_loss: 0.296;\ttrain_accuracy: 93.8%\t\t[  480/ 1016]\n"
     ]
    },
    {
     "name": "stdout",
     "output_type": "stream",
     "text": [
      "#   40;\ttrain_loss: 0.430;\ttrain_accuracy: 87.5%\t\t[  640/ 1016]\n",
      "#   50;\ttrain_loss: 0.383;\ttrain_accuracy: 87.5%\t\t[  800/ 1016]\n",
      "#   60;\ttrain_loss: 0.138;\ttrain_accuracy: 93.8%\t\t[  960/ 1016]\n"
     ]
    },
    {
     "name": "stdout",
     "output_type": "stream",
     "text": [
      "Valid metrics:\n",
      "\t avg_loss: 0.068299;\t avg_accuracy: 70.0%\n",
      "Epoch 54/60\n",
      "-------------------------------\n",
      "#    0;\ttrain_loss: 0.595;\ttrain_accuracy: 81.2%\t\t[    0/ 1016]\n",
      "#   10;\ttrain_loss: 0.644;\ttrain_accuracy: 81.2%\t\t[  160/ 1016]\n",
      "#   20;\ttrain_loss: 0.251;\ttrain_accuracy: 87.5%\t\t[  320/ 1016]\n"
     ]
    },
    {
     "name": "stdout",
     "output_type": "stream",
     "text": [
      "#   30;\ttrain_loss: 0.569;\ttrain_accuracy: 75.0%\t\t[  480/ 1016]\n",
      "#   40;\ttrain_loss: 0.458;\ttrain_accuracy: 81.2%\t\t[  640/ 1016]\n",
      "#   50;\ttrain_loss: 0.749;\ttrain_accuracy: 68.8%\t\t[  800/ 1016]\n"
     ]
    },
    {
     "name": "stdout",
     "output_type": "stream",
     "text": [
      "#   60;\ttrain_loss: 0.391;\ttrain_accuracy: 87.5%\t\t[  960/ 1016]\n",
      "Valid metrics:\n",
      "\t avg_loss: 0.064812;\t avg_accuracy: 71.0%\n",
      "Epoch 55/60\n",
      "-------------------------------\n",
      "#    0;\ttrain_loss: 0.449;\ttrain_accuracy: 81.2%\t\t[    0/ 1016]\n",
      "#   10;\ttrain_loss: 0.846;\ttrain_accuracy: 68.8%\t\t[  160/ 1016]\n"
     ]
    },
    {
     "name": "stdout",
     "output_type": "stream",
     "text": [
      "#   20;\ttrain_loss: 0.317;\ttrain_accuracy: 87.5%\t\t[  320/ 1016]\n",
      "#   30;\ttrain_loss: 0.278;\ttrain_accuracy: 81.2%\t\t[  480/ 1016]\n",
      "#   40;\ttrain_loss: 0.327;\ttrain_accuracy: 81.2%\t\t[  640/ 1016]\n"
     ]
    },
    {
     "name": "stdout",
     "output_type": "stream",
     "text": [
      "#   50;\ttrain_loss: 0.793;\ttrain_accuracy: 62.5%\t\t[  800/ 1016]\n",
      "#   60;\ttrain_loss: 0.571;\ttrain_accuracy: 81.2%\t\t[  960/ 1016]\n",
      "Valid metrics:\n",
      "\t avg_loss: 0.075996;\t avg_accuracy: 69.3%\n",
      "Epoch 56/60\n",
      "-------------------------------\n",
      "#    0;\ttrain_loss: 0.568;\ttrain_accuracy: 81.2%\t\t[    0/ 1016]\n"
     ]
    },
    {
     "name": "stdout",
     "output_type": "stream",
     "text": [
      "#   10;\ttrain_loss: 0.486;\ttrain_accuracy: 81.2%\t\t[  160/ 1016]\n",
      "#   20;\ttrain_loss: 0.439;\ttrain_accuracy: 87.5%\t\t[  320/ 1016]\n",
      "#   30;\ttrain_loss: 0.229;\ttrain_accuracy: 93.8%\t\t[  480/ 1016]\n"
     ]
    },
    {
     "name": "stdout",
     "output_type": "stream",
     "text": [
      "#   40;\ttrain_loss: 0.374;\ttrain_accuracy: 87.5%\t\t[  640/ 1016]\n",
      "#   50;\ttrain_loss: 0.830;\ttrain_accuracy: 62.5%\t\t[  800/ 1016]\n",
      "#   60;\ttrain_loss: 0.595;\ttrain_accuracy: 68.8%\t\t[  960/ 1016]\n"
     ]
    },
    {
     "name": "stdout",
     "output_type": "stream",
     "text": [
      "Valid metrics:\n",
      "\t avg_loss: 0.061528;\t avg_accuracy: 73.1%\n",
      "Epoch 57/60\n",
      "-------------------------------\n",
      "#    0;\ttrain_loss: 0.697;\ttrain_accuracy: 75.0%\t\t[    0/ 1016]\n",
      "#   10;\ttrain_loss: 0.380;\ttrain_accuracy: 81.2%\t\t[  160/ 1016]\n",
      "#   20;\ttrain_loss: 0.196;\ttrain_accuracy: 93.8%\t\t[  320/ 1016]\n"
     ]
    },
    {
     "name": "stdout",
     "output_type": "stream",
     "text": [
      "#   30;\ttrain_loss: 0.415;\ttrain_accuracy: 81.2%\t\t[  480/ 1016]\n",
      "#   40;\ttrain_loss: 0.368;\ttrain_accuracy: 87.5%\t\t[  640/ 1016]\n",
      "#   50;\ttrain_loss: 0.609;\ttrain_accuracy: 75.0%\t\t[  800/ 1016]\n"
     ]
    },
    {
     "name": "stdout",
     "output_type": "stream",
     "text": [
      "#   60;\ttrain_loss: 0.665;\ttrain_accuracy: 68.8%\t\t[  960/ 1016]\n",
      "Valid metrics:\n",
      "\t avg_loss: 0.065011;\t avg_accuracy: 72.8%\n",
      "Epoch 58/60\n",
      "-------------------------------\n",
      "#    0;\ttrain_loss: 0.075;\ttrain_accuracy:100.0%\t\t[    0/ 1016]\n",
      "#   10;\ttrain_loss: 0.494;\ttrain_accuracy: 68.8%\t\t[  160/ 1016]\n"
     ]
    },
    {
     "name": "stdout",
     "output_type": "stream",
     "text": [
      "#   20;\ttrain_loss: 0.342;\ttrain_accuracy: 81.2%\t\t[  320/ 1016]\n",
      "#   30;\ttrain_loss: 0.478;\ttrain_accuracy: 87.5%\t\t[  480/ 1016]\n",
      "#   40;\ttrain_loss: 0.115;\ttrain_accuracy:100.0%\t\t[  640/ 1016]\n"
     ]
    },
    {
     "name": "stdout",
     "output_type": "stream",
     "text": [
      "#   50;\ttrain_loss: 0.387;\ttrain_accuracy: 81.2%\t\t[  800/ 1016]\n",
      "#   60;\ttrain_loss: 0.336;\ttrain_accuracy: 87.5%\t\t[  960/ 1016]\n",
      "Valid metrics:\n",
      "\t avg_loss: 0.062814;\t avg_accuracy: 71.4%\n",
      "Epoch 59/60\n",
      "-------------------------------\n",
      "#    0;\ttrain_loss: 0.222;\ttrain_accuracy: 93.8%\t\t[    0/ 1016]\n"
     ]
    },
    {
     "name": "stdout",
     "output_type": "stream",
     "text": [
      "#   10;\ttrain_loss: 0.438;\ttrain_accuracy: 81.2%\t\t[  160/ 1016]\n",
      "#   20;\ttrain_loss: 0.296;\ttrain_accuracy: 93.8%\t\t[  320/ 1016]\n",
      "#   30;\ttrain_loss: 0.311;\ttrain_accuracy: 87.5%\t\t[  480/ 1016]\n"
     ]
    },
    {
     "name": "stdout",
     "output_type": "stream",
     "text": [
      "#   40;\ttrain_loss: 0.338;\ttrain_accuracy: 87.5%\t\t[  640/ 1016]\n",
      "#   50;\ttrain_loss: 0.315;\ttrain_accuracy: 93.8%\t\t[  800/ 1016]\n",
      "#   60;\ttrain_loss: 0.658;\ttrain_accuracy: 81.2%\t\t[  960/ 1016]\n"
     ]
    },
    {
     "name": "stdout",
     "output_type": "stream",
     "text": [
      "Valid metrics:\n",
      "\t avg_loss: 0.068688;\t avg_accuracy: 70.0%\n",
      "Epoch 60/60\n",
      "-------------------------------\n",
      "#    0;\ttrain_loss: 0.475;\ttrain_accuracy: 87.5%\t\t[    0/ 1016]\n",
      "#   10;\ttrain_loss: 0.145;\ttrain_accuracy:100.0%\t\t[  160/ 1016]\n",
      "#   20;\ttrain_loss: 0.436;\ttrain_accuracy: 81.2%\t\t[  320/ 1016]\n"
     ]
    },
    {
     "name": "stdout",
     "output_type": "stream",
     "text": [
      "#   30;\ttrain_loss: 0.313;\ttrain_accuracy: 87.5%\t\t[  480/ 1016]\n",
      "#   40;\ttrain_loss: 0.418;\ttrain_accuracy: 87.5%\t\t[  640/ 1016]\n",
      "#   50;\ttrain_loss: 0.773;\ttrain_accuracy: 81.2%\t\t[  800/ 1016]\n"
     ]
    },
    {
     "name": "stdout",
     "output_type": "stream",
     "text": [
      "#   60;\ttrain_loss: 0.188;\ttrain_accuracy:100.0%\t\t[  960/ 1016]\n",
      "Valid metrics:\n",
      "\t avg_loss: 0.071946;\t avg_accuracy: 71.0%\n"
     ]
    }
   ],
   "source": [
    "loss_fn = torch.nn.CrossEntropyLoss()\n",
    "optimizer = torch.optim.Adam(gcn.parameters(), lr=1e-4, weight_decay=5e-4)\n",
    "\n",
    "epochs = 60\n",
    "for t in range(epochs):\n",
    "    print(f\"Epoch {t+1}/{epochs}\\n-------------------------------\")\n",
    "    train_loop(train_generator, gcn, loss_fn, optimizer)\n",
    "    loss, correct = valid_test_loop(valid_generator, gcn, loss_fn)\n",
    "    print(f\"Valid metrics:\\n\\t avg_loss: {loss:>8f};\\t avg_accuracy: {(100*correct):>0.1f}%\")"
   ]
  },
  {
   "cell_type": "markdown",
   "id": "cd36ad05",
   "metadata": {},
   "source": [
    "After training the model for 60 epochs, we use the untouched test data to evaluate the model and conclude the results of training."
   ]
  },
  {
   "cell_type": "code",
   "execution_count": 14,
   "id": "bc96689f",
   "metadata": {},
   "outputs": [
    {
     "name": "stdout",
     "output_type": "stream",
     "text": [
      "Test metrics:\n",
      "\t avg_loss: 0.052713;\t avg_accuracy: 75.3%\n"
     ]
    }
   ],
   "source": [
    "# results\n",
    "loss, correct = valid_test_loop(test_generator, gcn, loss_fn)\n",
    "print(f\"Test metrics:\\n\\t avg_loss: {loss:>f};\\t avg_accuracy: {(100*correct):>0.1f}%\")"
   ]
  },
  {
   "cell_type": "markdown",
   "id": "810fa6fb",
   "metadata": {},
   "source": [
    "The performance is not greate. How would you improve it?\n",
    "\n",
    "## Exercises\n",
    " * Try out different time window size, batch size for the dataset,\n",
    " * Try different brain graph construction methods.\n",
    " * Try use different loss function or optimizer function.\n",
    " * **Hard**: Treat the parameters you changed, such as time window size and batch size, as parameters of part of the model training.\n",
    "\n",
    "## References\n",
    "\n",
    "```{bibliography}\n",
    ":filter: docname in docnames\n",
    "```"
   ]
  }
 ],
 "metadata": {
  "jupytext": {
   "cell_metadata_filter": "-all",
   "formats": "md:myst",
   "text_representation": {
    "extension": ".md",
    "format_name": "myst",
    "format_version": 0.13,
    "jupytext_version": "1.11.5"
   }
  },
  "kernelspec": {
   "display_name": "Python 3 (ipykernel)",
   "language": "python",
   "name": "python3"
  },
  "language_info": {
   "codemirror_mode": {
    "name": "ipython",
    "version": 3
   },
   "file_extension": ".py",
   "mimetype": "text/x-python",
   "name": "python",
   "nbconvert_exporter": "python",
   "pygments_lexer": "ipython3",
   "version": "3.8.12"
  },
  "source_map": [
   14,
   33,
   50,
   54,
   58,
   78,
   103,
   119,
   149,
   159,
   175,
   187,
   194,
   202,
   213,
   222,
   256,
   270,
   303,
   309,
   322,
   332,
   342,
   357,
   393,
   399,
   410,
   414,
   418
  ]
 },
 "nbformat": 4,
 "nbformat_minor": 5
}