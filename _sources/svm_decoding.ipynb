{
 "cells": [
  {
   "cell_type": "markdown",
   "id": "7e37fd4e",
   "metadata": {},
   "source": [
    "# Brain decoding with SVM\n",
    "\n",
    "## Support vector machines\n",
    "```{figure} svm_decoding/optimal-hyperplane.png\n",
    "---\n",
    "width: 500px\n",
    "name: optimal-hyperplane-fig\n",
    "---\n",
    "A SVM aims at finding an optimal hyperplane to separate two classes in high-dimensional space, while maximizing the margin. Image from the [scikit-learn SVM documentation](https://scikit-learn.org/stable/modules/svm.html) under [BSD 3-Clause license](https://github.com/scikit-learn/scikit-learn/blob/main/COPYING).\n",
    "```\n",
    "We are going to train a support vector machine (SVM) classifier for brain decoding on the Haxby dataset. SVM is often successful in high dimensional spaces, and it is a popular technique in neuroimaging.\n",
    "\n",
    "In the SVM algorithm, we plot each data item as a point in N-dimensional space that N depends on the number of features that distinctly classify the data points (e.g. when the number of features is 3 the hyperplane becomes a two-dimensional plane.). The objective here is finding a hyperplane (decision boundaries that help classify the data points) with the maximum margin (i.e the maximum distance between data points of both classes). Data points falling on either side of the hyperplane can be attributed to different classes.\n",
    "\n",
    "The scikit-learn [documentation](https://scikit-learn.org/stable/modules/svm.html) contains a detailed description of different variants of SVM, as well as example of applications with simple datasets.\n",
    "\n",
    "## Getting the data\n",
    "We are going to download the dataset from Haxby and colleagues (2001) {cite:p}`Haxby2001-vt`. You can check section {ref}`haxby-dataset` for more details on that dataset. Here we are going to quickly download it, and prepare it for machine learning applications with a set of predictive variable, the brain time series `X`, and a dependent variable, the annotation on cognition `y`."
   ]
  },
  {
   "cell_type": "code",
   "execution_count": null,
   "id": "8f9fb7e7",
   "metadata": {
    "tags": [
     "hide_input"
    ]
   },
   "outputs": [],
   "source": [
    "import os\n",
    "import warnings\n",
    "warnings.filterwarnings(action='once')\n",
    "\n",
    "from nilearn import datasets\n",
    "# We are fetching the data for subject 4\n",
    "data_dir = os.path.join('..', 'data')\n",
    "sub_no = 4\n",
    "haxby_dataset = datasets.fetch_haxby(subjects=[sub_no], fetch_stimuli=True, data_dir=data_dir)\n",
    "func_file = haxby_dataset.func[0]\n",
    "\n",
    "# mask the data\n",
    "from nilearn.input_data import NiftiMasker\n",
    "mask_filename = haxby_dataset.mask_vt[0]\n",
    "masker = NiftiMasker(mask_img=mask_filename, standardize=True, detrend=True)\n",
    "X = masker.fit_transform(func_file)\n",
    "\n",
    "# cognitive annotations\n",
    "import pandas as pd\n",
    "behavioral = pd.read_csv(haxby_dataset.session_target[0], delimiter=' ')\n",
    "y = behavioral['labels']"
   ]
  },
  {
   "cell_type": "markdown",
   "id": "c5b79a2f",
   "metadata": {},
   "source": [
    "Let's check the size of `X` and `y`:"
   ]
  },
  {
   "cell_type": "code",
   "execution_count": null,
   "id": "dd6af900",
   "metadata": {},
   "outputs": [],
   "source": [
    "categories = y.unique()\n",
    "print(categories)\n",
    "print(y.shape)\n",
    "print(X.shape)"
   ]
  },
  {
   "cell_type": "markdown",
   "id": "c2e20504",
   "metadata": {},
   "source": [
    "So we have 1452 time points, with one cognitive annotations each, and for each time point we have recordings of fMRI activity across 675 voxels. We can also see that the cognitive annotations span 9 different categories.\n",
    "\n",
    "## Training a model\n",
    "We are going to start by splitting our dataset between train and test. We will keep 20% of the time points as test, and then set up a 10 fold cross validation for training/validation."
   ]
  },
  {
   "cell_type": "code",
   "execution_count": null,
   "id": "575b9db0",
   "metadata": {},
   "outputs": [],
   "source": [
    "from sklearn.model_selection import train_test_split\n",
    "X_train, X_test, y_train, y_test = train_test_split(X, y, test_size = 0.2, random_state = 0)   "
   ]
  },
  {
   "cell_type": "markdown",
   "id": "6f5bf540",
   "metadata": {},
   "source": [
    "Now we can initialize a SVM classifier, and train it:"
   ]
  },
  {
   "cell_type": "code",
   "execution_count": null,
   "id": "6308bd3c",
   "metadata": {},
   "outputs": [],
   "source": [
    "from sklearn.svm import SVC\n",
    "model_svm = SVC(random_state = 0, kernel='linear', C=1)\n",
    "model_svm.fit(X_train, y_train)"
   ]
  },
  {
   "cell_type": "markdown",
   "id": "898c708c",
   "metadata": {},
   "source": [
    "## Assessing performance\n",
    "Let's check the accuracy of the prediction on the training set:"
   ]
  },
  {
   "cell_type": "code",
   "execution_count": null,
   "id": "a989b3f8",
   "metadata": {},
   "outputs": [],
   "source": [
    "from sklearn.metrics import classification_report\n",
    "y_train_pred = model_svm.predict(X_train)\n",
    "print(classification_report(y_train, y_train_pred))"
   ]
  },
  {
   "cell_type": "markdown",
   "id": "2826c196",
   "metadata": {},
   "source": [
    "This is dangerously high. Let's check on the test set:"
   ]
  },
  {
   "cell_type": "code",
   "execution_count": null,
   "id": "8be84c01",
   "metadata": {},
   "outputs": [],
   "source": [
    "y_test_pred = model_svm.predict(X_test)\n",
    "print(classification_report(y_test, y_test_pred))"
   ]
  },
  {
   "cell_type": "markdown",
   "id": "4e333ec0",
   "metadata": {},
   "source": [
    "We can have a look at the confusion matrix:"
   ]
  },
  {
   "cell_type": "code",
   "execution_count": null,
   "id": "0e090eb3",
   "metadata": {},
   "outputs": [],
   "source": [
    "# confusion matrix\n",
    "import sys\n",
    "import numpy as np\n",
    "from sklearn.metrics import confusion_matrix\n",
    "sys.path.append('../src')\n",
    "import visualization\n",
    "cm_svm = confusion_matrix(y_test, y_test_pred)\n",
    "model_conf_matrix = cm_svm.astype('float') / cm_svm.sum(axis = 1)[:, np.newaxis]\n",
    "\n",
    "visualization.conf_matrix(model_conf_matrix,\n",
    "                          categories,\n",
    "                          title='SVM decoding results on Haxby')"
   ]
  },
  {
   "cell_type": "markdown",
   "id": "75e14105",
   "metadata": {},
   "source": [
    "## Visualizing the weights\n",
    "Finally we can visualize the weights of the (linear) classifier to see which brain region seem to impact most the decision, for example for faces:"
   ]
  },
  {
   "cell_type": "code",
   "execution_count": null,
   "id": "f67afd7a",
   "metadata": {},
   "outputs": [],
   "source": [
    "from nilearn import plotting\n",
    "# first row of coef_ is comparing the first pair of class labels\n",
    "# with 9 classes, there are 9*8/2 distinct\n",
    "coef_img = masker.inverse_transform(model_svm.coef_[0, :])\n",
    "plotting.view_img(\n",
    "    coef_img, bg_img=haxby_dataset.anat[0],\n",
    "    title=\"SVM weights\", dim=-1, resampling_interpolation='nearest'\n",
    ")"
   ]
  },
  {
   "cell_type": "markdown",
   "id": "f4d334cc",
   "metadata": {},
   "source": [
    "## Exercises\n",
    " * What is the most difficult category to decode? Why?\n",
    " * The model seemed to overfit. Can you find a parameter value for `C` in `SVC` such that the model does not overfit as much?\n",
    " * Try a `'rbf'` kernel in `SVC`. Can you get a better test accuracy than with the `'linear'` kernel?\n",
    " * Try to explore the weights associated with other labels.\n",
    " * Instead of a 80/20 train/test split, implement a 5 fold cross validation. How variable is the prediction accuracy across folds?\n",
    " * Try implementing a random forest or k nearest neighbor classifier.\n",
    " * **Hard**: implement a systematic hyper-parameter optimization using nested cross-validation. Tip: check this [scikit-learn tutorial](https://scikit-learn.org/stable/auto_examples/model_selection/plot_grid_search_digits.html#sphx-glr-auto-examples-model-selection-plot-grid-search-digits-py).\n",
    " * **Hard**: try to account for class imbalance in the dataset."
   ]
  }
 ],
 "metadata": {
  "jupytext": {
   "cell_metadata_filter": "-all",
   "formats": "md:myst",
   "text_representation": {
    "extension": ".md",
    "format_name": "myst",
    "format_version": 0.13,
    "jupytext_version": "1.11.5"
   }
  },
  "kernelspec": {
   "display_name": "Python 3 (ipykernel)",
   "language": "python",
   "name": "python3"
  },
  "source_map": [
   14,
   34,
   57,
   60,
   65,
   70,
   73,
   76,
   80,
   83,
   87,
   89,
   92,
   95,
   108,
   111,
   120
  ]
 },
 "nbformat": 4,
 "nbformat_minor": 5
}